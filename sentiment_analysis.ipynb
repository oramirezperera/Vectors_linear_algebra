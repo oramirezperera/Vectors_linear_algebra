{
  "nbformat": 4,
  "nbformat_minor": 0,
  "metadata": {
    "colab": {
      "name": "sentiment_analysis.ipynb",
      "provenance": [],
      "collapsed_sections": [],
      "authorship_tag": "ABX9TyNGEUVZXKhYDeLUdjvYK/OR",
      "include_colab_link": true
    },
    "kernelspec": {
      "name": "python3",
      "display_name": "Python 3"
    },
    "language_info": {
      "name": "python"
    }
  },
  "cells": [
    {
      "cell_type": "markdown",
      "metadata": {
        "id": "view-in-github",
        "colab_type": "text"
      },
      "source": [
        "<a href=\"https://colab.research.google.com/github/oramirezperera/Vectors_linear_algebra/blob/main/sentiment_analysis.ipynb\" target=\"_parent\"><img src=\"https://colab.research.google.com/assets/colab-badge.svg\" alt=\"Open In Colab\"/></a>"
      ]
    },
    {
      "cell_type": "markdown",
      "metadata": {
        "id": "fJ3nx6VaynMy"
      },
      "source": [
        "## Dependencies"
      ]
    },
    {
      "cell_type": "code",
      "metadata": {
        "id": "tQl8wu6Gymhe"
      },
      "source": [
        "import numpy as np"
      ],
      "execution_count": 50,
      "outputs": []
    },
    {
      "cell_type": "code",
      "metadata": {
        "id": "eD6_mSSLyv-6"
      },
      "source": [
        "special_symbols = ['.', ',', '!', '(', ')']\n",
        "tweet1 = \"Gran mexicano y excelente en su área, su muerte es una enorme perdida y debería ser luto nacional!!\"\n",
        "tweet2 = \"Vaya señora que bueno que se asesora por alguien inteligente no por el ignorante del Gatt\"\n",
        "tweet3 =  \"Se me ocurre y sin ver todos los videos de Plazti que me informéis por dónde empiezo.  Entiendo que os tendría que decir quién soy y que quiero, vamos conocerme para asesorarme bien. Un saludo\"\n",
        "tweet4 = \"Soy docente universitario, estoy intentando preparar mis clases en modo platzi bien didáctico, (le llamo modo noticiero), descargue una plataforma gratuita de grabación y transmisión de vídeo, se llama Obs estudio!bueno la sigo remando con sus funciones pero sé que saldrá algo!\"\n",
        "positive_words = ['gran', 'excelente', 'quiero', 'positivo', 'bien', 'positivo', 'bueno', 'inteligente']\n",
        "neutral_words = ['perdida', 'aprender', 'estudio']\n",
        "negative_words = ['muerte', 'luto', 'ignorante']\n"
      ],
      "execution_count": 85,
      "outputs": []
    },
    {
      "cell_type": "code",
      "metadata": {
        "id": "EnMLsyCB0oCf"
      },
      "source": [
        "def cleaning_tweet(tweet):\n",
        "  for character in special_symbols:\n",
        "    tweet = tweet.replace(character, '').lower()\n",
        "    tweet_cleaned = tweet.split(\" \")\n",
        "  return tweet_cleaned\n",
        "\n",
        "tweet_cleaned = cleaning_tweet(tweet)"
      ],
      "execution_count": 86,
      "outputs": []
    },
    {
      "cell_type": "code",
      "metadata": {
        "colab": {
          "base_uri": "https://localhost:8080/"
        },
        "id": "TnQtVLiV1gO2",
        "outputId": "ca77e461-5fff-4509-b364-6a3b08d9acff"
      },
      "source": [
        "def create_vector_w(tweet, tweet_cleaned):\n",
        "  vector_w = [tweet.count(i) for i in tweet_cleaned]\n",
        "  return np.array(vector_w)\n",
        "\n",
        "create_vector_w(tweet, positive_words)\n"
      ],
      "execution_count": 87,
      "outputs": [
        {
          "output_type": "execute_result",
          "data": {
            "text/plain": [
              "array([0, 1, 0, 0, 0, 0, 0, 0])"
            ]
          },
          "metadata": {
            "tags": []
          },
          "execution_count": 87
        }
      ]
    },
    {
      "cell_type": "code",
      "metadata": {
        "colab": {
          "base_uri": "https://localhost:8080/"
        },
        "id": "RwPc4Ygl5TO_",
        "outputId": "8bc03698-ac57-4299-c62a-3d7bdbb17ff4"
      },
      "source": [
        "def create_vector_s(tweet):\n",
        "  positive = create_vector_w(tweet, positive_words).sum()\n",
        "  neutral = create_vector_w(tweet, neutral_words).sum()\n",
        "  negative = create_vector_w(tweet, negative_words).sum()\n",
        "  return np.array([positive, neutral, negative])\n",
        "\n",
        "create_vector_s(tweet_cleaned)"
      ],
      "execution_count": 88,
      "outputs": [
        {
          "output_type": "execute_result",
          "data": {
            "text/plain": [
              "array([2, 1, 2])"
            ]
          },
          "metadata": {
            "tags": []
          },
          "execution_count": 88
        }
      ]
    },
    {
      "cell_type": "code",
      "metadata": {
        "colab": {
          "base_uri": "https://localhost:8080/"
        },
        "id": "DtQJ5h709rZT",
        "outputId": "a2b3663f-9928-45c5-b7fc-e83aba0f3463"
      },
      "source": [
        "def get_avg(tweet, tweet_cleaned):\n",
        "  w = create_vector_w(tweet, tweet_cleaned)\n",
        "  avg = (np.ones(w.size) / (w.size)).T.dot(w)\n",
        "  return avg\n",
        "\n",
        "get_avg(tweet, tweet_cleaned)"
      ],
      "execution_count": 89,
      "outputs": [
        {
          "output_type": "execute_result",
          "data": {
            "text/plain": [
              "1.277777777777778"
            ]
          },
          "metadata": {
            "tags": []
          },
          "execution_count": 89
        }
      ]
    },
    {
      "cell_type": "markdown",
      "metadata": {
        "id": "ukoRf-AV334s"
      },
      "source": [
        ""
      ]
    },
    {
      "cell_type": "code",
      "metadata": {
        "id": "ENphMwWPALLE"
      },
      "source": [
        "def get_score(tweet):\n",
        "  vector_s = create_vector_s(tweet)\n",
        "  score_vector = np.array([1, 0, -1])\n",
        "  score = np.dot(vector_s, score_vector)\n",
        "  return [f'text: {tweet}', f'Score: {score}', f'Positive: {get_avg(tweet, positive_words)}', f'Neutral: {get_avg(tweet, neutral_words)}', f'Negative {get_avg(tweet, negative_words)}']"
      ],
      "execution_count": 92,
      "outputs": []
    },
    {
      "cell_type": "code",
      "metadata": {
        "colab": {
          "base_uri": "https://localhost:8080/"
        },
        "id": "sLCQ4yerCPma",
        "outputId": "7824e3e0-5df6-4878-fef8-72d47418cb95"
      },
      "source": [
        "one = get_score(tweet1)\n",
        "for line in one:\n",
        "  print(line)"
      ],
      "execution_count": 94,
      "outputs": [
        {
          "output_type": "stream",
          "text": [
            "text: Gran mexicano y excelente en su área, su muerte es una enorme perdida y debería ser luto nacional!!\n",
            "Score: -1\n",
            "Positive: 0.125\n",
            "Neutral: 0.3333333333333333\n",
            "Negative 0.6666666666666666\n"
          ],
          "name": "stdout"
        }
      ]
    },
    {
      "cell_type": "code",
      "metadata": {
        "colab": {
          "base_uri": "https://localhost:8080/"
        },
        "id": "d1arvni2CuoZ",
        "outputId": "31e5f1be-96d0-4986-c2d2-e9dc60c3be33"
      },
      "source": [
        "two = get_score(tweet2)\n",
        "for line in two:\n",
        "  print(line)"
      ],
      "execution_count": 95,
      "outputs": [
        {
          "output_type": "stream",
          "text": [
            "text: Vaya señora que bueno que se asesora por alguien inteligente no por el ignorante del Gatt\n",
            "Score: 1\n",
            "Positive: 0.25\n",
            "Neutral: 0.0\n",
            "Negative 0.3333333333333333\n"
          ],
          "name": "stdout"
        }
      ]
    },
    {
      "cell_type": "code",
      "metadata": {
        "colab": {
          "base_uri": "https://localhost:8080/"
        },
        "id": "QK8z_Cn3Cz1X",
        "outputId": "47857cb4-200b-45ae-a485-cc408a7a2fc0"
      },
      "source": [
        "three = get_score(tweet3)\n",
        "for line in three:\n",
        "  print(line)"
      ],
      "execution_count": 96,
      "outputs": [
        {
          "output_type": "stream",
          "text": [
            "text: Se me ocurre y sin ver todos los videos de Plazti que me informéis por dónde empiezo.  Entiendo que os tendría que decir quién soy y que quiero, vamos conocerme para asesorarme bien. Un saludo\n",
            "Score: 2\n",
            "Positive: 0.25\n",
            "Neutral: 0.0\n",
            "Negative 0.0\n"
          ],
          "name": "stdout"
        }
      ]
    },
    {
      "cell_type": "code",
      "metadata": {
        "colab": {
          "base_uri": "https://localhost:8080/"
        },
        "id": "z01jDDI6C9Tg",
        "outputId": "4f9f3b3c-e98c-4aa8-892a-7a6dfac3293a"
      },
      "source": [
        "four = get_score(tweet4)\n",
        "for line in four:\n",
        "  print(line)"
      ],
      "execution_count": 97,
      "outputs": [
        {
          "output_type": "stream",
          "text": [
            "text: Soy docente universitario, estoy intentando preparar mis clases en modo platzi bien didáctico, (le llamo modo noticiero), descargue una plataforma gratuita de grabación y transmisión de vídeo, se llama Obs estudio!bueno la sigo remando con sus funciones pero sé que saldrá algo!\n",
            "Score: 2\n",
            "Positive: 0.25\n",
            "Neutral: 0.3333333333333333\n",
            "Negative 0.0\n"
          ],
          "name": "stdout"
        }
      ]
    }
  ]
}