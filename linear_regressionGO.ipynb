{
  "nbformat": 4,
  "nbformat_minor": 0,
  "metadata": {
    "colab": {
      "name": "linear_regressionGO.ipynb",
      "provenance": [],
      "collapsed_sections": [],
      "authorship_tag": "ABX9TyMZQBy3InziyYJRlPM/JkrR",
      "include_colab_link": true
    },
    "kernelspec": {
      "name": "python3",
      "display_name": "Python 3"
    },
    "language_info": {
      "name": "python"
    }
  },
  "cells": [
    {
      "cell_type": "markdown",
      "metadata": {
        "id": "view-in-github",
        "colab_type": "text"
      },
      "source": [
        "<a href=\"https://colab.research.google.com/github/oramirezperera/Vectors_linear_algebra/blob/main/linear_regressionGO.ipynb\" target=\"_parent\"><img src=\"https://colab.research.google.com/assets/colab-badge.svg\" alt=\"Open In Colab\"/></a>"
      ]
    },
    {
      "cell_type": "markdown",
      "metadata": {
        "id": "6VqUhstL-ahO"
      },
      "source": [
        "## Dependencies"
      ]
    },
    {
      "cell_type": "code",
      "metadata": {
        "id": "OWc9SmCX-B1r"
      },
      "source": [
        "import matplotlib.pyplot as plt\n",
        "import pandas as pd\n",
        "import numpy as np"
      ],
      "execution_count": 1,
      "outputs": []
    },
    {
      "cell_type": "code",
      "metadata": {
        "id": "X1biht2o-hLW"
      },
      "source": [
        "df = pd.read_csv('income_db_gorg.csv')"
      ],
      "execution_count": 5,
      "outputs": []
    },
    {
      "cell_type": "markdown",
      "metadata": {
        "id": "WfLdi5lj_X2n"
      },
      "source": [
        "What's the data in the df?"
      ]
    },
    {
      "cell_type": "code",
      "metadata": {
        "colab": {
          "base_uri": "https://localhost:8080/",
          "height": 309
        },
        "id": "tLAyjQiU-pZZ",
        "outputId": "129294a8-e5ad-4311-87ba-19239df494a2"
      },
      "source": [
        "df.head()"
      ],
      "execution_count": 6,
      "outputs": [
        {
          "output_type": "execute_result",
          "data": {
            "text/html": [
              "<div>\n",
              "<style scoped>\n",
              "    .dataframe tbody tr th:only-of-type {\n",
              "        vertical-align: middle;\n",
              "    }\n",
              "\n",
              "    .dataframe tbody tr th {\n",
              "        vertical-align: top;\n",
              "    }\n",
              "\n",
              "    .dataframe thead th {\n",
              "        text-align: right;\n",
              "    }\n",
              "</style>\n",
              "<table border=\"1\" class=\"dataframe\">\n",
              "  <thead>\n",
              "    <tr style=\"text-align: right;\">\n",
              "      <th></th>\n",
              "      <th>id</th>\n",
              "      <th>State_Code</th>\n",
              "      <th>State_Name</th>\n",
              "      <th>State_ab</th>\n",
              "      <th>County</th>\n",
              "      <th>City</th>\n",
              "      <th>Place</th>\n",
              "      <th>Type</th>\n",
              "      <th>Primary</th>\n",
              "      <th>Zip_Code</th>\n",
              "      <th>Area_Code</th>\n",
              "      <th>ALand</th>\n",
              "      <th>AWater</th>\n",
              "      <th>Lat</th>\n",
              "      <th>Lon</th>\n",
              "      <th>Mean</th>\n",
              "      <th>Median</th>\n",
              "      <th>Stdev</th>\n",
              "      <th>sum_w</th>\n",
              "    </tr>\n",
              "  </thead>\n",
              "  <tbody>\n",
              "    <tr>\n",
              "      <th>0</th>\n",
              "      <td>1011000</td>\n",
              "      <td>1</td>\n",
              "      <td>Alabama</td>\n",
              "      <td>AL</td>\n",
              "      <td>Mobile County</td>\n",
              "      <td>Chickasaw</td>\n",
              "      <td>Chickasaw city</td>\n",
              "      <td>City</td>\n",
              "      <td>place</td>\n",
              "      <td>36611</td>\n",
              "      <td>251</td>\n",
              "      <td>10894952</td>\n",
              "      <td>909156</td>\n",
              "      <td>30.771450</td>\n",
              "      <td>-88.079697</td>\n",
              "      <td>38773</td>\n",
              "      <td>30506</td>\n",
              "      <td>33101</td>\n",
              "      <td>1638.260513</td>\n",
              "    </tr>\n",
              "    <tr>\n",
              "      <th>1</th>\n",
              "      <td>1011010</td>\n",
              "      <td>1</td>\n",
              "      <td>Alabama</td>\n",
              "      <td>AL</td>\n",
              "      <td>Barbour County</td>\n",
              "      <td>Louisville</td>\n",
              "      <td>Clio city</td>\n",
              "      <td>City</td>\n",
              "      <td>place</td>\n",
              "      <td>36048</td>\n",
              "      <td>334</td>\n",
              "      <td>26070325</td>\n",
              "      <td>23254</td>\n",
              "      <td>31.708516</td>\n",
              "      <td>-85.611039</td>\n",
              "      <td>37725</td>\n",
              "      <td>19528</td>\n",
              "      <td>43789</td>\n",
              "      <td>258.017685</td>\n",
              "    </tr>\n",
              "    <tr>\n",
              "      <th>2</th>\n",
              "      <td>1011020</td>\n",
              "      <td>1</td>\n",
              "      <td>Alabama</td>\n",
              "      <td>AL</td>\n",
              "      <td>Shelby County</td>\n",
              "      <td>Columbiana</td>\n",
              "      <td>Columbiana city</td>\n",
              "      <td>City</td>\n",
              "      <td>place</td>\n",
              "      <td>35051</td>\n",
              "      <td>205</td>\n",
              "      <td>44835274</td>\n",
              "      <td>261034</td>\n",
              "      <td>33.191452</td>\n",
              "      <td>-86.615618</td>\n",
              "      <td>54606</td>\n",
              "      <td>31930</td>\n",
              "      <td>57348</td>\n",
              "      <td>926.031000</td>\n",
              "    </tr>\n",
              "    <tr>\n",
              "      <th>3</th>\n",
              "      <td>1011030</td>\n",
              "      <td>1</td>\n",
              "      <td>Alabama</td>\n",
              "      <td>AL</td>\n",
              "      <td>Mobile County</td>\n",
              "      <td>Satsuma</td>\n",
              "      <td>Creola city</td>\n",
              "      <td>City</td>\n",
              "      <td>place</td>\n",
              "      <td>36572</td>\n",
              "      <td>251</td>\n",
              "      <td>36878729</td>\n",
              "      <td>2374530</td>\n",
              "      <td>30.874343</td>\n",
              "      <td>-88.009442</td>\n",
              "      <td>63919</td>\n",
              "      <td>52814</td>\n",
              "      <td>47707</td>\n",
              "      <td>378.114619</td>\n",
              "    </tr>\n",
              "    <tr>\n",
              "      <th>4</th>\n",
              "      <td>1011040</td>\n",
              "      <td>1</td>\n",
              "      <td>Alabama</td>\n",
              "      <td>AL</td>\n",
              "      <td>Mobile County</td>\n",
              "      <td>Dauphin Island</td>\n",
              "      <td>Dauphin Island</td>\n",
              "      <td>Town</td>\n",
              "      <td>place</td>\n",
              "      <td>36528</td>\n",
              "      <td>251</td>\n",
              "      <td>16204185</td>\n",
              "      <td>413605152</td>\n",
              "      <td>30.250913</td>\n",
              "      <td>-88.171268</td>\n",
              "      <td>77948</td>\n",
              "      <td>67225</td>\n",
              "      <td>54270</td>\n",
              "      <td>282.320328</td>\n",
              "    </tr>\n",
              "  </tbody>\n",
              "</table>\n",
              "</div>"
            ],
            "text/plain": [
              "        id  State_Code State_Name State_ab  ...   Mean Median  Stdev        sum_w\n",
              "0  1011000           1    Alabama       AL  ...  38773  30506  33101  1638.260513\n",
              "1  1011010           1    Alabama       AL  ...  37725  19528  43789   258.017685\n",
              "2  1011020           1    Alabama       AL  ...  54606  31930  57348   926.031000\n",
              "3  1011030           1    Alabama       AL  ...  63919  52814  47707   378.114619\n",
              "4  1011040           1    Alabama       AL  ...  77948  67225  54270   282.320328\n",
              "\n",
              "[5 rows x 19 columns]"
            ]
          },
          "metadata": {
            "tags": []
          },
          "execution_count": 6
        }
      ]
    },
    {
      "cell_type": "markdown",
      "metadata": {
        "id": "oNgoujcp_fJz"
      },
      "source": [
        "Which is the size of the data?"
      ]
    },
    {
      "cell_type": "code",
      "metadata": {
        "colab": {
          "base_uri": "https://localhost:8080/"
        },
        "id": "sNxSRHry_oep",
        "outputId": "c78923a8-99bb-4b26-9d44-b27e81d141b4"
      },
      "source": [
        "len(df) * len(df.columns)"
      ],
      "execution_count": 7,
      "outputs": [
        {
          "output_type": "execute_result",
          "data": {
            "text/plain": [
              "617994"
            ]
          },
          "metadata": {
            "tags": []
          },
          "execution_count": 7
        }
      ]
    },
    {
      "cell_type": "code",
      "metadata": {
        "colab": {
          "base_uri": "https://localhost:8080/"
        },
        "id": "ZDatp5rA_w1-",
        "outputId": "fd1de23a-93e3-4a3b-c5e0-ec4e3801852b"
      },
      "source": [
        "len(df)"
      ],
      "execution_count": 8,
      "outputs": [
        {
          "output_type": "execute_result",
          "data": {
            "text/plain": [
              "32526"
            ]
          },
          "metadata": {
            "tags": []
          },
          "execution_count": 8
        }
      ]
    },
    {
      "cell_type": "markdown",
      "metadata": {
        "id": "KMRgCHWc_2Pg"
      },
      "source": [
        "Our regressors are lat and lon\n",
        "\n",
        "and our independent variable is\n",
        "\n",
        "mean"
      ]
    },
    {
      "cell_type": "markdown",
      "metadata": {
        "id": "QHJAbQ7cAYsq"
      },
      "source": [
        "to do this we will need $\\beta$ and $v$ but we will assume that they were given, later we will calculate them. \n",
        "\n",
        "$$ v = 30980.48, \\qquad \\boldsymbol{\\beta} = \\begin{bmatrix}744.83 \\\\ -83.45\\end{bmatrix} $$\n",
        "\n",
        "Now we can calculate $\\hat{y}_{i} = \\mathbf{x}^{T}_{i} \\boldsymbol{\\beta} + v$\n",
        "and make predictions\n"
      ]
    },
    {
      "cell_type": "code",
      "metadata": {
        "id": "rBPcGUy7_0dL"
      },
      "source": [
        "def pred(x):\n",
        "  beta = np.array([744.83, -83.45])\n",
        "  v = 30980.48\n",
        "  return x@beta+v"
      ],
      "execution_count": 9,
      "outputs": []
    },
    {
      "cell_type": "code",
      "metadata": {
        "colab": {
          "base_uri": "https://localhost:8080/",
          "height": 609
        },
        "id": "PLcG1zs32n4K",
        "outputId": "b3a72d77-08c5-4268-fb28-5742a4208051"
      },
      "source": [
        "df"
      ],
      "execution_count": 23,
      "outputs": [
        {
          "output_type": "execute_result",
          "data": {
            "text/html": [
              "<div>\n",
              "<style scoped>\n",
              "    .dataframe tbody tr th:only-of-type {\n",
              "        vertical-align: middle;\n",
              "    }\n",
              "\n",
              "    .dataframe tbody tr th {\n",
              "        vertical-align: top;\n",
              "    }\n",
              "\n",
              "    .dataframe thead th {\n",
              "        text-align: right;\n",
              "    }\n",
              "</style>\n",
              "<table border=\"1\" class=\"dataframe\">\n",
              "  <thead>\n",
              "    <tr style=\"text-align: right;\">\n",
              "      <th></th>\n",
              "      <th>id</th>\n",
              "      <th>State_Code</th>\n",
              "      <th>State_Name</th>\n",
              "      <th>State_ab</th>\n",
              "      <th>County</th>\n",
              "      <th>City</th>\n",
              "      <th>Place</th>\n",
              "      <th>Type</th>\n",
              "      <th>Primary</th>\n",
              "      <th>Zip_Code</th>\n",
              "      <th>Area_Code</th>\n",
              "      <th>ALand</th>\n",
              "      <th>AWater</th>\n",
              "      <th>Lat</th>\n",
              "      <th>Lon</th>\n",
              "      <th>Mean</th>\n",
              "      <th>Median</th>\n",
              "      <th>Stdev</th>\n",
              "      <th>sum_w</th>\n",
              "    </tr>\n",
              "  </thead>\n",
              "  <tbody>\n",
              "    <tr>\n",
              "      <th>0</th>\n",
              "      <td>1011000</td>\n",
              "      <td>1</td>\n",
              "      <td>Alabama</td>\n",
              "      <td>AL</td>\n",
              "      <td>Mobile County</td>\n",
              "      <td>Chickasaw</td>\n",
              "      <td>Chickasaw city</td>\n",
              "      <td>City</td>\n",
              "      <td>place</td>\n",
              "      <td>36611</td>\n",
              "      <td>251</td>\n",
              "      <td>10894952</td>\n",
              "      <td>909156</td>\n",
              "      <td>30.771450</td>\n",
              "      <td>-88.079697</td>\n",
              "      <td>38773</td>\n",
              "      <td>30506</td>\n",
              "      <td>33101</td>\n",
              "      <td>1638.260513</td>\n",
              "    </tr>\n",
              "    <tr>\n",
              "      <th>1</th>\n",
              "      <td>1011010</td>\n",
              "      <td>1</td>\n",
              "      <td>Alabama</td>\n",
              "      <td>AL</td>\n",
              "      <td>Barbour County</td>\n",
              "      <td>Louisville</td>\n",
              "      <td>Clio city</td>\n",
              "      <td>City</td>\n",
              "      <td>place</td>\n",
              "      <td>36048</td>\n",
              "      <td>334</td>\n",
              "      <td>26070325</td>\n",
              "      <td>23254</td>\n",
              "      <td>31.708516</td>\n",
              "      <td>-85.611039</td>\n",
              "      <td>37725</td>\n",
              "      <td>19528</td>\n",
              "      <td>43789</td>\n",
              "      <td>258.017685</td>\n",
              "    </tr>\n",
              "    <tr>\n",
              "      <th>2</th>\n",
              "      <td>1011020</td>\n",
              "      <td>1</td>\n",
              "      <td>Alabama</td>\n",
              "      <td>AL</td>\n",
              "      <td>Shelby County</td>\n",
              "      <td>Columbiana</td>\n",
              "      <td>Columbiana city</td>\n",
              "      <td>City</td>\n",
              "      <td>place</td>\n",
              "      <td>35051</td>\n",
              "      <td>205</td>\n",
              "      <td>44835274</td>\n",
              "      <td>261034</td>\n",
              "      <td>33.191452</td>\n",
              "      <td>-86.615618</td>\n",
              "      <td>54606</td>\n",
              "      <td>31930</td>\n",
              "      <td>57348</td>\n",
              "      <td>926.031000</td>\n",
              "    </tr>\n",
              "    <tr>\n",
              "      <th>3</th>\n",
              "      <td>1011030</td>\n",
              "      <td>1</td>\n",
              "      <td>Alabama</td>\n",
              "      <td>AL</td>\n",
              "      <td>Mobile County</td>\n",
              "      <td>Satsuma</td>\n",
              "      <td>Creola city</td>\n",
              "      <td>City</td>\n",
              "      <td>place</td>\n",
              "      <td>36572</td>\n",
              "      <td>251</td>\n",
              "      <td>36878729</td>\n",
              "      <td>2374530</td>\n",
              "      <td>30.874343</td>\n",
              "      <td>-88.009442</td>\n",
              "      <td>63919</td>\n",
              "      <td>52814</td>\n",
              "      <td>47707</td>\n",
              "      <td>378.114619</td>\n",
              "    </tr>\n",
              "    <tr>\n",
              "      <th>4</th>\n",
              "      <td>1011040</td>\n",
              "      <td>1</td>\n",
              "      <td>Alabama</td>\n",
              "      <td>AL</td>\n",
              "      <td>Mobile County</td>\n",
              "      <td>Dauphin Island</td>\n",
              "      <td>Dauphin Island</td>\n",
              "      <td>Town</td>\n",
              "      <td>place</td>\n",
              "      <td>36528</td>\n",
              "      <td>251</td>\n",
              "      <td>16204185</td>\n",
              "      <td>413605152</td>\n",
              "      <td>30.250913</td>\n",
              "      <td>-88.171268</td>\n",
              "      <td>77948</td>\n",
              "      <td>67225</td>\n",
              "      <td>54270</td>\n",
              "      <td>282.320328</td>\n",
              "    </tr>\n",
              "    <tr>\n",
              "      <th>...</th>\n",
              "      <td>...</td>\n",
              "      <td>...</td>\n",
              "      <td>...</td>\n",
              "      <td>...</td>\n",
              "      <td>...</td>\n",
              "      <td>...</td>\n",
              "      <td>...</td>\n",
              "      <td>...</td>\n",
              "      <td>...</td>\n",
              "      <td>...</td>\n",
              "      <td>...</td>\n",
              "      <td>...</td>\n",
              "      <td>...</td>\n",
              "      <td>...</td>\n",
              "      <td>...</td>\n",
              "      <td>...</td>\n",
              "      <td>...</td>\n",
              "      <td>...</td>\n",
              "      <td>...</td>\n",
              "    </tr>\n",
              "    <tr>\n",
              "      <th>32521</th>\n",
              "      <td>720296</td>\n",
              "      <td>72</td>\n",
              "      <td>Puerto Rico</td>\n",
              "      <td>PR</td>\n",
              "      <td>Adjuntas Municipio</td>\n",
              "      <td>Guaynabo</td>\n",
              "      <td>Adjuntas</td>\n",
              "      <td>Track</td>\n",
              "      <td>Track</td>\n",
              "      <td>970</td>\n",
              "      <td>787</td>\n",
              "      <td>589417</td>\n",
              "      <td>1691</td>\n",
              "      <td>18.397925</td>\n",
              "      <td>-66.130633</td>\n",
              "      <td>30649</td>\n",
              "      <td>13729</td>\n",
              "      <td>37977</td>\n",
              "      <td>1321.278082</td>\n",
              "    </tr>\n",
              "    <tr>\n",
              "      <th>32522</th>\n",
              "      <td>7202966</td>\n",
              "      <td>72</td>\n",
              "      <td>Puerto Rico</td>\n",
              "      <td>PR</td>\n",
              "      <td>Adjuntas Municipio</td>\n",
              "      <td>Aguada</td>\n",
              "      <td>Adjuntas</td>\n",
              "      <td>Track</td>\n",
              "      <td>Track</td>\n",
              "      <td>602</td>\n",
              "      <td>787</td>\n",
              "      <td>1801613</td>\n",
              "      <td>795887</td>\n",
              "      <td>18.385424</td>\n",
              "      <td>-67.203310</td>\n",
              "      <td>15520</td>\n",
              "      <td>9923</td>\n",
              "      <td>15541</td>\n",
              "      <td>238.813450</td>\n",
              "    </tr>\n",
              "    <tr>\n",
              "      <th>32523</th>\n",
              "      <td>7202976</td>\n",
              "      <td>72</td>\n",
              "      <td>Puerto Rico</td>\n",
              "      <td>PR</td>\n",
              "      <td>Adjuntas Municipio</td>\n",
              "      <td>Aguada</td>\n",
              "      <td>Adjuntas</td>\n",
              "      <td>Track</td>\n",
              "      <td>Track</td>\n",
              "      <td>602</td>\n",
              "      <td>787</td>\n",
              "      <td>11031227</td>\n",
              "      <td>0</td>\n",
              "      <td>18.356565</td>\n",
              "      <td>-67.180686</td>\n",
              "      <td>41933</td>\n",
              "      <td>34054</td>\n",
              "      <td>31539</td>\n",
              "      <td>313.551070</td>\n",
              "    </tr>\n",
              "    <tr>\n",
              "      <th>32524</th>\n",
              "      <td>7202986</td>\n",
              "      <td>72</td>\n",
              "      <td>Puerto Rico</td>\n",
              "      <td>PR</td>\n",
              "      <td>Adjuntas Municipio</td>\n",
              "      <td>Aguada</td>\n",
              "      <td>Adjuntas</td>\n",
              "      <td>Track</td>\n",
              "      <td>Track</td>\n",
              "      <td>602</td>\n",
              "      <td>787</td>\n",
              "      <td>0</td>\n",
              "      <td>33597561</td>\n",
              "      <td>18.412041</td>\n",
              "      <td>-67.213413</td>\n",
              "      <td>0</td>\n",
              "      <td>0</td>\n",
              "      <td>0</td>\n",
              "      <td>0.000000</td>\n",
              "    </tr>\n",
              "    <tr>\n",
              "      <th>32525</th>\n",
              "      <td>7202996</td>\n",
              "      <td>72</td>\n",
              "      <td>Puerto Rico</td>\n",
              "      <td>PR</td>\n",
              "      <td>Adjuntas Municipio</td>\n",
              "      <td>Aguadilla</td>\n",
              "      <td>Adjuntas</td>\n",
              "      <td>Track</td>\n",
              "      <td>Track</td>\n",
              "      <td>603</td>\n",
              "      <td>787</td>\n",
              "      <td>6476604</td>\n",
              "      <td>2717115</td>\n",
              "      <td>18.478094</td>\n",
              "      <td>-67.160453</td>\n",
              "      <td>28049</td>\n",
              "      <td>20229</td>\n",
              "      <td>33333</td>\n",
              "      <td>512.884803</td>\n",
              "    </tr>\n",
              "  </tbody>\n",
              "</table>\n",
              "<p>32526 rows × 19 columns</p>\n",
              "</div>"
            ],
            "text/plain": [
              "            id  State_Code   State_Name  ... Median  Stdev        sum_w\n",
              "0      1011000           1      Alabama  ...  30506  33101  1638.260513\n",
              "1      1011010           1      Alabama  ...  19528  43789   258.017685\n",
              "2      1011020           1      Alabama  ...  31930  57348   926.031000\n",
              "3      1011030           1      Alabama  ...  52814  47707   378.114619\n",
              "4      1011040           1      Alabama  ...  67225  54270   282.320328\n",
              "...        ...         ...          ...  ...    ...    ...          ...\n",
              "32521   720296          72  Puerto Rico  ...  13729  37977  1321.278082\n",
              "32522  7202966          72  Puerto Rico  ...   9923  15541   238.813450\n",
              "32523  7202976          72  Puerto Rico  ...  34054  31539   313.551070\n",
              "32524  7202986          72  Puerto Rico  ...      0      0     0.000000\n",
              "32525  7202996          72  Puerto Rico  ...  20229  33333   512.884803\n",
              "\n",
              "[32526 rows x 19 columns]"
            ]
          },
          "metadata": {
            "tags": []
          },
          "execution_count": 23
        }
      ]
    },
    {
      "cell_type": "code",
      "metadata": {
        "colab": {
          "base_uri": "https://localhost:8080/"
        },
        "id": "VVqvVwqC3Pzg",
        "outputId": "d7276c2c-bf65-4a9b-9932-0ca0b82b9f20"
      },
      "source": [
        "type(df['Lat'])"
      ],
      "execution_count": 11,
      "outputs": [
        {
          "output_type": "execute_result",
          "data": {
            "text/plain": [
              "pandas.core.series.Series"
            ]
          },
          "metadata": {
            "tags": []
          },
          "execution_count": 11
        }
      ]
    },
    {
      "cell_type": "code",
      "metadata": {
        "colab": {
          "base_uri": "https://localhost:8080/"
        },
        "id": "zNI12r4a3S-K",
        "outputId": "ccbf7d12-b623-47c2-9acf-18e909d3fdc9"
      },
      "source": [
        "df['Lat'].values"
      ],
      "execution_count": 12,
      "outputs": [
        {
          "output_type": "execute_result",
          "data": {
            "text/plain": [
              "array([30.77145  , 31.708516 , 33.191452 , ..., 18.3565654, 18.4120413,\n",
              "       18.4780938])"
            ]
          },
          "metadata": {
            "tags": []
          },
          "execution_count": 12
        }
      ]
    },
    {
      "cell_type": "code",
      "metadata": {
        "colab": {
          "base_uri": "https://localhost:8080/"
        },
        "id": "UJv0GhFI3WSU",
        "outputId": "5b6c053d-c996-422c-98cd-689f3d769a31"
      },
      "source": [
        "type(df['Lat'].values)"
      ],
      "execution_count": 13,
      "outputs": [
        {
          "output_type": "execute_result",
          "data": {
            "text/plain": [
              "numpy.ndarray"
            ]
          },
          "metadata": {
            "tags": []
          },
          "execution_count": 13
        }
      ]
    },
    {
      "cell_type": "code",
      "metadata": {
        "id": "iLesldGy3au6"
      },
      "source": [
        "X = df[['Lat', 'Lon']].values"
      ],
      "execution_count": 14,
      "outputs": []
    },
    {
      "cell_type": "code",
      "metadata": {
        "colab": {
          "base_uri": "https://localhost:8080/"
        },
        "id": "8y9aGDLR3ivW",
        "outputId": "ffc2d812-6755-43d7-a6e1-f30cca6c3b4d"
      },
      "source": [
        "type(X)"
      ],
      "execution_count": 15,
      "outputs": [
        {
          "output_type": "execute_result",
          "data": {
            "text/plain": [
              "numpy.ndarray"
            ]
          },
          "metadata": {
            "tags": []
          },
          "execution_count": 15
        }
      ]
    },
    {
      "cell_type": "code",
      "metadata": {
        "colab": {
          "base_uri": "https://localhost:8080/"
        },
        "id": "yYcGxksE3kxm",
        "outputId": "604e1eeb-62c0-443f-899d-75b81e97a728"
      },
      "source": [
        "X"
      ],
      "execution_count": 17,
      "outputs": [
        {
          "output_type": "execute_result",
          "data": {
            "text/plain": [
              "array([[ 30.77145  , -88.079697 ],\n",
              "       [ 31.708516 , -85.611039 ],\n",
              "       [ 33.191452 , -86.615618 ],\n",
              "       ...,\n",
              "       [ 18.3565654, -67.180686 ],\n",
              "       [ 18.4120413, -67.2134127],\n",
              "       [ 18.4780938, -67.1604529]])"
            ]
          },
          "metadata": {
            "tags": []
          },
          "execution_count": 17
        }
      ]
    },
    {
      "cell_type": "code",
      "metadata": {
        "id": "U1jB3UqH3nNy"
      },
      "source": [
        "Y_hat = pred(X)"
      ],
      "execution_count": 18,
      "outputs": []
    },
    {
      "cell_type": "code",
      "metadata": {
        "colab": {
          "base_uri": "https://localhost:8080/"
        },
        "id": "89faozim3y9l",
        "outputId": "869b5b27-7bbc-4b84-feec-9c43e29f0c8e"
      },
      "source": [
        "Y_hat"
      ],
      "execution_count": 19,
      "outputs": [
        {
          "output_type": "execute_result",
          "data": {
            "text/plain": [
              "array([61250.22981815, 61742.17517683, 62930.54251526, ...,\n",
              "       50259.22885358, 50303.28001129, 50348.05839956])"
            ]
          },
          "metadata": {
            "tags": []
          },
          "execution_count": 19
        }
      ]
    },
    {
      "cell_type": "code",
      "metadata": {
        "id": "L54xe8nu30i1"
      },
      "source": [
        "Y = df['Mean'].values"
      ],
      "execution_count": 20,
      "outputs": []
    },
    {
      "cell_type": "code",
      "metadata": {
        "colab": {
          "base_uri": "https://localhost:8080/",
          "height": 704
        },
        "id": "GRNwG55j4wE8",
        "outputId": "bdbcbd4d-f2e7-4b22-e517-bdd2c314ca08"
      },
      "source": [
        "fig, ax = plt.subplots(1,1,figsize=(7,7), dpi=120)\n",
        "\n",
        "ax.scatter(Y_hat, Y, marker='o', color='red')\n",
        "ax.plot(Y,Y, ls='--')\n",
        "plt.show()"
      ],
      "execution_count": 21,
      "outputs": [
        {
          "output_type": "display_data",
          "data": {
            "image/png": "[encoded data removed]",
            "text/plain": [
              "<Figure size 840x840 with 1 Axes>"
            ]
          },
          "metadata": {
            "tags": [],
            "needs_background": "light"
          }
        }
      ]
    },
    {
      "cell_type": "markdown",
      "metadata": {
        "id": "D3GjVYph5NqE"
      },
      "source": [
        "As we can see the red dots doesn't follow the line, so there's a problem with our model. We have to change our parameters"
      ]
    },
    {
      "cell_type": "markdown",
      "metadata": {
        "id": "DcMPcdWk51fB"
      },
      "source": [
        "What if we try again but with zip code and this new values $$ v = 4152.02, \\qquad \\boldsymbol{\\beta} = \\begin{bmatrix}6.55490348e+02 \\\\ 5.75918372e+02 \\\\ -2.94216316e-01\\end{bmatrix}$$"
      ]
    },
    {
      "cell_type": "code",
      "metadata": {
        "id": "bVjx15hm503f"
      },
      "source": [
        "def predict(x):\n",
        "  beta = np.array([6.55490348e+02, 5.75918372e+02, -2.94216316e-01])\n",
        "  v = 4152.02\n",
        "  return x@beta+v"
      ],
      "execution_count": 22,
      "outputs": []
    },
    {
      "cell_type": "code",
      "metadata": {
        "id": "O2p6N-IO6kWO"
      },
      "source": [
        "X_withzp = df[['Lat', 'Lon', 'Zip_Code']].values"
      ],
      "execution_count": 24,
      "outputs": []
    },
    {
      "cell_type": "code",
      "metadata": {
        "colab": {
          "base_uri": "https://localhost:8080/"
        },
        "id": "sCw_hQaj7Bjq",
        "outputId": "be6945be-22ff-42ec-f04d-49977f6517e6"
      },
      "source": [
        "X_withzp"
      ],
      "execution_count": 25,
      "outputs": [
        {
          "output_type": "execute_result",
          "data": {
            "text/plain": [
              "array([[ 3.07714500e+01, -8.80796970e+01,  3.66110000e+04],\n",
              "       [ 3.17085160e+01, -8.56110390e+01,  3.60480000e+04],\n",
              "       [ 3.31914520e+01, -8.66156180e+01,  3.50510000e+04],\n",
              "       ...,\n",
              "       [ 1.83565654e+01, -6.71806860e+01,  6.02000000e+02],\n",
              "       [ 1.84120413e+01, -6.72134127e+01,  6.02000000e+02],\n",
              "       [ 1.84780938e+01, -6.71604529e+01,  6.03000000e+02]])"
            ]
          },
          "metadata": {
            "tags": []
          },
          "execution_count": 25
        }
      ]
    },
    {
      "cell_type": "code",
      "metadata": {
        "id": "Bi9-hj3u7EvF"
      },
      "source": [
        "Y_hat_zp = predict(X_withzp)"
      ],
      "execution_count": 26,
      "outputs": []
    },
    {
      "cell_type": "code",
      "metadata": {
        "colab": {
          "base_uri": "https://localhost:8080/"
        },
        "id": "ZLbI4b7B7LxO",
        "outputId": "deb30370-7572-49cb-c7c4-b8f54582fd84"
      },
      "source": [
        "Y_hat_zp"
      ],
      "execution_count": 27,
      "outputs": [
        {
          "output_type": "execute_result",
          "data": {
            "text/plain": [
              "array([-37175.8607786 , -34974.23377787, -34287.40537834, ...,\n",
              "       -22683.13809106, -22665.62208185, -22592.11900016])"
            ]
          },
          "metadata": {
            "tags": []
          },
          "execution_count": 27
        }
      ]
    },
    {
      "cell_type": "code",
      "metadata": {
        "colab": {
          "base_uri": "https://localhost:8080/",
          "height": 704
        },
        "id": "u8hm_6qT7NQY",
        "outputId": "88143c55-3b63-46fe-8af9-1dadaddfc4b6"
      },
      "source": [
        "fig, ax = plt.subplots(1,1,figsize=(7,7),dpi=120)\n",
        "\n",
        "ax.scatter(Y_hat_zp, Y, marker='o', color='blue')\n",
        "ax.plot(Y,Y, ls='--')\n",
        "plt.show()"
      ],
      "execution_count": 28,
      "outputs": [
        {
          "output_type": "display_data",
          "data": {
            "image/png": "[encoded data removed]",
            "text/plain": [
              "<Figure size 840x840 with 1 Axes>"
            ]
          },
          "metadata": {
            "tags": [],
            "needs_background": "light"
          }
        }
      ]
    },
    {
      "cell_type": "markdown",
      "metadata": {
        "id": "BEfS8TBZ8z0t"
      },
      "source": [
        "Well, with the new parameters it's even worst"
      ]
    }
  ]
}