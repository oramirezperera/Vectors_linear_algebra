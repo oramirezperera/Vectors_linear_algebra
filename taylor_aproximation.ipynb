{
  "nbformat": 4,
  "nbformat_minor": 0,
  "metadata": {
    "colab": {
      "name": "taylor_aproximation.ipynb",
      "provenance": [],
      "authorship_tag": "ABX9TyNz9lYOhuKuEo7wGBQB9l2J",
      "include_colab_link": true
    },
    "kernelspec": {
      "name": "python3",
      "display_name": "Python 3"
    },
    "language_info": {
      "name": "python"
    }
  },
  "cells": [
    {
      "cell_type": "markdown",
      "metadata": {
        "id": "view-in-github",
        "colab_type": "text"
      },
      "source": [
        "<a href=\"https://colab.research.google.com/github/oramirezperera/Vectors_linear_algebra/blob/main/taylor_aproximation.ipynb\" target=\"_parent\"><img src=\"https://colab.research.google.com/assets/colab-badge.svg\" alt=\"Open In Colab\"/></a>"
      ]
    },
    {
      "cell_type": "code",
      "metadata": {
        "id": "s7VCUkAPPeEK"
      },
      "source": [
        "import numpy as np"
      ],
      "execution_count": 1,
      "outputs": []
    },
    {
      "cell_type": "code",
      "metadata": {
        "id": "nTSxvsYzPjPd"
      },
      "source": [
        "def gradF(z):\n",
        "  return np.array([1-np.exp(z[1]-z[0]),np.exp(z[1]-z[0])])"
      ],
      "execution_count": 11,
      "outputs": []
    },
    {
      "cell_type": "code",
      "metadata": {
        "colab": {
          "base_uri": "https://localhost:8080/"
        },
        "id": "p6aCSscgQBcb",
        "outputId": "c7232702-c8a5-4930-f8d9-6dcf045a765c"
      },
      "source": [
        "z = np.array([1,2])\n",
        "print('grad(f)[1,2] = ', gradF(z))"
      ],
      "execution_count": 12,
      "outputs": [
        {
          "output_type": "stream",
          "text": [
            "grad(f)[1,2] =  [-1.71828183  2.71828183]\n"
          ],
          "name": "stdout"
        }
      ]
    },
    {
      "cell_type": "markdown",
      "metadata": {
        "id": "MdnghjX_RAlL"
      },
      "source": [
        "programming $f$ function"
      ]
    },
    {
      "cell_type": "code",
      "metadata": {
        "id": "axkcrPBGRARA"
      },
      "source": [
        "def F(x):\n",
        "  return x[0] + np.exp(x[1]-x[0])"
      ],
      "execution_count": 13,
      "outputs": []
    },
    {
      "cell_type": "code",
      "metadata": {
        "colab": {
          "base_uri": "https://localhost:8080/"
        },
        "id": "eaUxh3jqRVW7",
        "outputId": "b8ba0980-210f-41c3-d0a4-271a12676443"
      },
      "source": [
        "print(f'f([1,2]) = ', F(z))"
      ],
      "execution_count": 15,
      "outputs": [
        {
          "output_type": "stream",
          "text": [
            "f([1,2]) =  3.718281828459045\n"
          ],
          "name": "stdout"
        }
      ]
    },
    {
      "cell_type": "markdown",
      "metadata": {
        "id": "g4af31vJRgp9"
      },
      "source": [
        "first order Taylor's approximation will be"
      ]
    },
    {
      "cell_type": "code",
      "metadata": {
        "id": "RkNdK1bgRf9D"
      },
      "source": [
        "def taylor_f(x, z):\n",
        "  fz =  F(z)\n",
        "  gz = gradF(z)\n",
        "  return  fz + gz@(x-z)"
      ],
      "execution_count": 16,
      "outputs": []
    },
    {
      "cell_type": "markdown",
      "metadata": {
        "id": "0FdwWkPHSWFw"
      },
      "source": [
        "Evaluating z = x;  $\\hat{f}(z)$ = $f(z)$ "
      ]
    },
    {
      "cell_type": "code",
      "metadata": {
        "colab": {
          "base_uri": "https://localhost:8080/"
        },
        "id": "JTcIueCZSTsO",
        "outputId": "2346166c-026c-4f45-fab0-c35c5404a6e7"
      },
      "source": [
        "print(f'taylor_F([1,2],[1,2] = ', taylor_f(z,z))"
      ],
      "execution_count": 17,
      "outputs": [
        {
          "output_type": "stream",
          "text": [
            "taylor_F([1,2],[1,2] =  3.718281828459045\n"
          ],
          "name": "stdout"
        }
      ]
    },
    {
      "cell_type": "markdown",
      "metadata": {
        "id": "SIwi3C1dTJb2"
      },
      "source": [
        "our approximation is $$ \\hat{f}(x) = 3.7183 + [-1.72 \\space 2.72] \\begin{bmatrix}x_{0}-1\\\\ x_{1}-2\\end{bmatrix} $$ "
      ]
    },
    {
      "cell_type": "markdown",
      "metadata": {
        "id": "KkvaBpHQVDz8"
      },
      "source": [
        "Other example\n",
        "$$ f(x) = x^{2} - x^{3} $$\n",
        "$$\\nabla f(z) = 2z - 3z^{2}$$\n",
        "aproximating in $z=0.4$\n"
      ]
    },
    {
      "cell_type": "code",
      "metadata": {
        "id": "WGyPwfOvSEiO"
      },
      "source": [
        "def df(z):\n",
        "  return 2*z - 3*z**2"
      ],
      "execution_count": 19,
      "outputs": []
    },
    {
      "cell_type": "code",
      "metadata": {
        "id": "IM0xXANPVeQH"
      },
      "source": [
        "def tf(x, z):\n",
        "  return f(z) + df(z) *(x-z)"
      ],
      "execution_count": 28,
      "outputs": []
    },
    {
      "cell_type": "code",
      "metadata": {
        "id": "nz2PSe0nVvzG"
      },
      "source": [
        "def f(x):\n",
        "  return x**2 - x**3"
      ],
      "execution_count": 22,
      "outputs": []
    },
    {
      "cell_type": "code",
      "metadata": {
        "colab": {
          "base_uri": "https://localhost:8080/"
        },
        "id": "cS7kmWdpV7TG",
        "outputId": "c5dc7df4-819a-4154-8027-116198e131cf"
      },
      "source": [
        "print(f'f(0.4) = ', f(0.4))"
      ],
      "execution_count": 23,
      "outputs": [
        {
          "output_type": "stream",
          "text": [
            "f(0.4) =  0.09600000000000002\n"
          ],
          "name": "stdout"
        }
      ]
    },
    {
      "cell_type": "code",
      "metadata": {
        "colab": {
          "base_uri": "https://localhost:8080/"
        },
        "id": "AD2gWZT1WCI3",
        "outputId": "ca27c810-d510-4e59-b212-24f65b8c9f04"
      },
      "source": [
        "print(f'Df(0.4) = ', df(0.4))"
      ],
      "execution_count": 24,
      "outputs": [
        {
          "output_type": "stream",
          "text": [
            "Df(0.4) =  0.31999999999999995\n"
          ],
          "name": "stdout"
        }
      ]
    },
    {
      "cell_type": "markdown",
      "metadata": {
        "id": "dUCs0C64WJDs"
      },
      "source": [
        "Our Taylor's approximation is $$ \\hat{f}(x) =  0.09600000000000002 + 0.31999999999999995 * (x - 0.4) $$"
      ]
    },
    {
      "cell_type": "code",
      "metadata": {
        "id": "R7ayaTY1WaWQ"
      },
      "source": [
        "import matplotlib.pyplot as plt\n"
      ],
      "execution_count": 25,
      "outputs": []
    },
    {
      "cell_type": "code",
      "metadata": {
        "colab": {
          "base_uri": "https://localhost:8080/",
          "height": 704
        },
        "id": "cjIXhmZ8WmZY",
        "outputId": "ef42b697-074d-4c63-a0f7-7c13bc797fe5"
      },
      "source": [
        "%matplotlib inline\n",
        "fig, ax = plt.subplots(1,1,figsize=(7,7), dpi=120)\n",
        "x = np.linspace(0,1,1000)\n",
        "taf = lambda x:tf(x, 0.4)\n",
        "\n",
        "ax.plot(x,f(x), label='original')\n",
        "ax.plot(x, taf(x), label=\"Taylor's approximation\")\n",
        "ax.scatter(0.4, f(0.4), color='red')\n",
        "ax.legend()\n",
        "plt.show()"
      ],
      "execution_count": 30,
      "outputs": [
        {
          "output_type": "display_data",
          "data": {
            "image/png": "[encoded data removed]",
            "text/plain": [
              "<Figure size 840x840 with 1 Axes>"
            ]
          },
          "metadata": {
            "tags": [],
            "needs_background": "light"
          }
        }
      ]
    },
    {
      "cell_type": "markdown",
      "metadata": {
        "id": "nTLecc23Xvw6"
      },
      "source": [
        "Calculating approximation's error"
      ]
    },
    {
      "cell_type": "code",
      "metadata": {
        "colab": {
          "base_uri": "https://localhost:8080/"
        },
        "id": "eS9PL8GtXsdN",
        "outputId": "dc761e9f-0c72-41b4-d088-9a79e7e143ca"
      },
      "source": [
        "print('x = {}, f(x) = {}, Taylor f(x) = {}, |f(x) - Taylor f(x)| = {}'.format(0.3,f(0.3),taf(0.3),np.abs(f(0.3)-taf(0.3))))"
      ],
      "execution_count": 31,
      "outputs": [
        {
          "output_type": "stream",
          "text": [
            "x = 0.3, f(x) = 0.063, Taylor f(x) = 0.064, |f(x) - Taylor f(x)| = 0.0010000000000000009\n"
          ],
          "name": "stdout"
        }
      ]
    },
    {
      "cell_type": "code",
      "metadata": {
        "colab": {
          "base_uri": "https://localhost:8080/"
        },
        "id": "17zcEGZwX2E-",
        "outputId": "e2013d57-5d8a-4bd0-c204-cc7a89e639c0"
      },
      "source": [
        "print('x = {}, f(x) = {}, Taylor f(x) = {}, |f(x) - Taylor f(x)| = {}'.format(0.35,f(0.35),taf(0.35),np.abs(f(0.35)-taf(0.35))))"
      ],
      "execution_count": 32,
      "outputs": [
        {
          "output_type": "stream",
          "text": [
            "x = 0.35, f(x) = 0.079625, Taylor f(x) = 0.08, |f(x) - Taylor f(x)| = 0.00037500000000000033\n"
          ],
          "name": "stdout"
        }
      ]
    },
    {
      "cell_type": "code",
      "metadata": {
        "colab": {
          "base_uri": "https://localhost:8080/"
        },
        "id": "KxzBGZWuX32n",
        "outputId": "4e18adf5-f23b-4375-c873-7ecbd6a46459"
      },
      "source": [
        "print('x = {}, f(x) = {}, Taylor f(x) = {}, |f(x) - Taylor f(x)| = {}'.format(0.4,f(0.4),taf(0.4),np.abs(f(0.4)-taf(0.4))))"
      ],
      "execution_count": 33,
      "outputs": [
        {
          "output_type": "stream",
          "text": [
            "x = 0.4, f(x) = 0.09600000000000002, Taylor f(x) = 0.09600000000000002, |f(x) - Taylor f(x)| = 0.0\n"
          ],
          "name": "stdout"
        }
      ]
    }
  ]
}