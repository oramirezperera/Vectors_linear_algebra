{
  "nbformat": 4,
  "nbformat_minor": 0,
  "metadata": {
    "colab": {
      "name": "vector_addition_rgb.ipynb",
      "provenance": [],
      "authorship_tag": "ABX9TyOM9hwxr/NOZR8eKUg13Mhh",
      "include_colab_link": true
    },
    "kernelspec": {
      "name": "python3",
      "display_name": "Python 3"
    },
    "language_info": {
      "name": "python"
    }
  },
  "cells": [
    {
      "cell_type": "markdown",
      "metadata": {
        "id": "view-in-github",
        "colab_type": "text"
      },
      "source": [
        "<a href=\"https://colab.research.google.com/github/oramirezperera/Vectors_linear_algebra/blob/main/vector_addition_rgb.ipynb\" target=\"_parent\"><img src=\"https://colab.research.google.com/assets/colab-badge.svg\" alt=\"Open In Colab\"/></a>"
      ]
    },
    {
      "cell_type": "markdown",
      "metadata": {
        "id": "KxXN87EH2ZIl"
      },
      "source": [
        "Using RGB to use them as vectors.\n",
        "We know if we can represent Python lists as vectors. But if we use + Python will concatenate the two lists and don't add the vectors.\n",
        "A solution for this could be the following code."
      ]
    },
    {
      "cell_type": "code",
      "metadata": {
        "id": "1AfA986w18ag"
      },
      "source": [
        "red = [255, 0, 0]\n",
        "black = [0, 0, 0]"
      ],
      "execution_count": null,
      "outputs": []
    },
    {
      "cell_type": "code",
      "metadata": {
        "colab": {
          "base_uri": "https://localhost:8080/"
        },
        "id": "wg3H3ZWK3AHp",
        "outputId": "21ae92ca-95cb-45d8-ab1f-575f52c2bb4f"
      },
      "source": [
        "print('if we use + it will concatenate the two lists: ', red + black)"
      ],
      "execution_count": null,
      "outputs": [
        {
          "output_type": "stream",
          "text": [
            "if we use + it will concatenate the two lists:  [255, 0, 0, 0, 0, 0]\n"
          ],
          "name": "stdout"
        }
      ]
    },
    {
      "cell_type": "code",
      "metadata": {
        "id": "RpaUyOXD3Kui"
      },
      "source": [
        "def vector_addition(a, b):\n",
        "  return [i+j for i,j in zip(a,b)] # zip takes iterables (can be zero or more), aggregates them in a tuple, and return it."
      ],
      "execution_count": null,
      "outputs": []
    },
    {
      "cell_type": "code",
      "metadata": {
        "colab": {
          "base_uri": "https://localhost:8080/"
        },
        "id": "sS28Y4uh3yg1",
        "outputId": "0c115489-0485-4197-a6dd-652e02c314b6"
      },
      "source": [
        "vector_addition(red, black)"
      ],
      "execution_count": null,
      "outputs": [
        {
          "output_type": "execute_result",
          "data": {
            "text/plain": [
              "[255, 0, 0]"
            ]
          },
          "metadata": {
            "tags": []
          },
          "execution_count": 4
        }
      ]
    },
    {
      "cell_type": "markdown",
      "metadata": {
        "id": "xIss85i_32Kb"
      },
      "source": [
        "As we can see, now it's a vector addition. But there are easier ways to do it, we can use numpy to do this."
      ]
    },
    {
      "cell_type": "code",
      "metadata": {
        "id": "4JqIg0aq4BBD"
      },
      "source": [
        "import numpy as np"
      ],
      "execution_count": null,
      "outputs": []
    },
    {
      "cell_type": "code",
      "metadata": {
        "colab": {
          "base_uri": "https://localhost:8080/"
        },
        "id": "wX07suwd4atS",
        "outputId": "3cde6a6c-df2f-4281-b00c-a22fdd40aebf"
      },
      "source": [
        "red = np.array(red)\n",
        "black = np.array(black)\n",
        "print(red, black)"
      ],
      "execution_count": null,
      "outputs": [
        {
          "output_type": "stream",
          "text": [
            "[255   0   0] [0 0 0]\n"
          ],
          "name": "stdout"
        }
      ]
    },
    {
      "cell_type": "code",
      "metadata": {
        "colab": {
          "base_uri": "https://localhost:8080/"
        },
        "id": "DRZM6Lef4nMr",
        "outputId": "5679282e-0d18-472f-cd84-5e424a002ec8"
      },
      "source": [
        "print(type(red))"
      ],
      "execution_count": null,
      "outputs": [
        {
          "output_type": "stream",
          "text": [
            "<class 'numpy.ndarray'>\n"
          ],
          "name": "stdout"
        }
      ]
    },
    {
      "cell_type": "markdown",
      "metadata": {
        "id": "t7cRQ1UJ4vw1"
      },
      "source": [
        "Now red and black are not lists, they are ndarray or numpy arrays. If we add the two vectors with + we will get a vector addition as expected."
      ]
    },
    {
      "cell_type": "code",
      "metadata": {
        "colab": {
          "base_uri": "https://localhost:8080/"
        },
        "id": "Q3iqP38N4-Z3",
        "outputId": "2b7b6f43-62bb-4af4-a88f-0e42d1be3cd2"
      },
      "source": [
        "red_and_black = red + black\n",
        "print(red_and_black)"
      ],
      "execution_count": null,
      "outputs": [
        {
          "output_type": "stream",
          "text": [
            "[255   0   0]\n"
          ],
          "name": "stdout"
        }
      ]
    },
    {
      "cell_type": "markdown",
      "metadata": {
        "id": "LMx07y1V5cvZ"
      },
      "source": [
        "If we have two vectors a = (1, 2, 3, 4, 5) and b = (-1, -2, -3, -4, 5) and we want to get the vector c = a+b"
      ]
    },
    {
      "cell_type": "code",
      "metadata": {
        "colab": {
          "base_uri": "https://localhost:8080/"
        },
        "id": "1WVH5T875cOd",
        "outputId": "140d1adc-a761-4787-8abd-bdb6e5ab748b"
      },
      "source": [
        "a = np.array([1,2,3,4,5])\n",
        "b = np.array([-1,-2,-3,-4,5])\n",
        "c = a + b\n",
        "print(c)"
      ],
      "execution_count": null,
      "outputs": [
        {
          "output_type": "stream",
          "text": [
            "[ 0  0  0  0 10]\n"
          ],
          "name": "stdout"
        }
      ]
    },
    {
      "cell_type": "markdown",
      "metadata": {
        "id": "aDr29yY-6wTC"
      },
      "source": [
        "We have the vector  a = [0,0,255]\n",
        "\n",
        "What if we  add the vectors green + red + a?\n",
        "\n",
        "What if we  add the vectors green + red?\n",
        "\n",
        "What if we  add the vectors black - a? makes sense in RGB?\n"
      ]
    },
    {
      "cell_type": "code",
      "metadata": {
        "id": "tmA0KQzk7M8B"
      },
      "source": [
        "green = np.array([0,255,0])\n",
        "a = np.array([0,0,255]) # RGB a is blue"
      ],
      "execution_count": null,
      "outputs": []
    },
    {
      "cell_type": "code",
      "metadata": {
        "colab": {
          "base_uri": "https://localhost:8080/"
        },
        "id": "C6z_TytV7f-m",
        "outputId": "c3947e68-7957-4def-fa1e-bd1ff24149e9"
      },
      "source": [
        "print('the addition of the vectors green + red + a is:', red+green+a)"
      ],
      "execution_count": null,
      "outputs": [
        {
          "output_type": "stream",
          "text": [
            "the addition of the vectors green + red + a is: [255 255 255]\n"
          ],
          "name": "stdout"
        }
      ]
    },
    {
      "cell_type": "markdown",
      "metadata": {
        "id": "dz2OYV2Q7tAl"
      },
      "source": [
        "Above is the code for white in RGB"
      ]
    },
    {
      "cell_type": "code",
      "metadata": {
        "colab": {
          "base_uri": "https://localhost:8080/"
        },
        "id": "idnHKkhJ7rn0",
        "outputId": "235ac7bd-0b34-4dff-cf92-dcaf0cab961e"
      },
      "source": [
        "print('green + red will be: ', green + red)"
      ],
      "execution_count": null,
      "outputs": [
        {
          "output_type": "stream",
          "text": [
            "green + red will be:  [255 255   0]\n"
          ],
          "name": "stdout"
        }
      ]
    },
    {
      "cell_type": "markdown",
      "metadata": {
        "id": "3DsSk7xX79mk"
      },
      "source": [
        "Green + red is yellow and the result of the sum of those vectors is the RGB code for yellow"
      ]
    },
    {
      "cell_type": "code",
      "metadata": {
        "colab": {
          "base_uri": "https://localhost:8080/"
        },
        "id": "4Coj-h1A8FG-",
        "outputId": "2b6bdce1-03b0-4299-e48d-28d02f6d9e52"
      },
      "source": [
        "print('The result of black - a is: ', black-a)"
      ],
      "execution_count": null,
      "outputs": [
        {
          "output_type": "stream",
          "text": [
            "The result of black - a is:  [   0    0 -255]\n"
          ],
          "name": "stdout"
        }
      ]
    },
    {
      "cell_type": "markdown",
      "metadata": {
        "id": "DdMMMTA68QFN"
      },
      "source": [
        "The algebraic addition of those vectors is [0,0,-255] but in RGB that doesn't make sense, it's not a color."
      ]
    },
    {
      "cell_type": "code",
      "metadata": {
        "id": "9v_Pms0W8Jjo"
      },
      "source": [
        ""
      ],
      "execution_count": null,
      "outputs": []
    }
  ]
}