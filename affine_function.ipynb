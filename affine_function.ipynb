{
  "nbformat": 4,
  "nbformat_minor": 0,
  "metadata": {
    "colab": {
      "name": "affine_function.ipynb",
      "provenance": [],
      "collapsed_sections": [],
      "authorship_tag": "ABX9TyPWnS8VoHsMoWzP/tHaRI8R",
      "include_colab_link": true
    },
    "kernelspec": {
      "name": "python3",
      "display_name": "Python 3"
    },
    "language_info": {
      "name": "python"
    }
  },
  "cells": [
    {
      "cell_type": "markdown",
      "metadata": {
        "id": "view-in-github",
        "colab_type": "text"
      },
      "source": [
        "<a href=\"https://colab.research.google.com/github/oramirezperera/Vectors_linear_algebra/blob/main/affine_function.ipynb\" target=\"_parent\"><img src=\"https://colab.research.google.com/assets/colab-badge.svg\" alt=\"Open In Colab\"/></a>"
      ]
    },
    {
      "cell_type": "markdown",
      "metadata": {
        "id": "3iCfj4Iy72Nh"
      },
      "source": [
        "We have three processors while resting we have PT = [10,10,10] and a temperature of 35 celcius degrees.\n",
        "When the first processor is at max capacity PT=[100,10,10] and T = 60.\n",
        "When the second processor is at max capacity PT=[10,100,10] and T = 75.\n",
        "When the third processor is at max capacity PT= [10,10,100] and T = 65.\n",
        "Which is the temperature with the three processors at max capacity, the processors melt at 150 degrees."
      ]
    },
    {
      "cell_type": "code",
      "metadata": {
        "id": "s4f32K4e7yVq"
      },
      "source": [
        "import numpy as np\n",
        "from sklearn.linear_model import LinearRegression"
      ],
      "execution_count": 1,
      "outputs": []
    },
    {
      "cell_type": "code",
      "metadata": {
        "id": "erOu7Xd79go3"
      },
      "source": [
        "def experimental_data():\n",
        "  p_0 = np.array([10,10,10]) # resting\n",
        "  p_1 = np.array([100,10,10]) # first processor max capacity\n",
        "  p_2 = np.array([10,100,10])\n",
        "  p_3 = np.array([10,10,100])\n",
        "\n",
        "  p = np.array([p_0,p_1,p_2,p_3]) \n",
        "  t = np.array([35,60,75,65]) # temperature solution array\n",
        "  return p, t"
      ],
      "execution_count": 2,
      "outputs": []
    },
    {
      "cell_type": "code",
      "metadata": {
        "id": "M9cvUYJM-hEo"
      },
      "source": [
        "def polynomial_system():\n",
        "  \"\"\" using polynomial system to get the answer \"\"\"\n",
        "  equation1 = '10*a0+10*a1+10*a2+b=35'\n",
        "  equation2 = '100*a0+10*a1+10*a2+b=60'\n",
        "  equation3 = '10*a0+100*a1+10*a2+b=75'\n",
        "  equation4 = '10*a0+10*a1+100*a3+b=65'\n",
        "\n",
        "  p = np.array([[10,10,10,1], [100,10,10,1], [10,100,10,1], [10,10,100,1]]) # capacity processors matrix\n",
        "  t = np.array([35,60,75,65]) # temperature solution array\n",
        "\n",
        "  solution = np.linalg.solve(p, t) # numpy solution to the system equation\n",
        "\n",
        "  return solution"
      ],
      "execution_count": 5,
      "outputs": []
    },
    {
      "cell_type": "code",
      "metadata": {
        "id": "miVLzz-HAfN2"
      },
      "source": [
        "def least_square():\n",
        "  \"\"\" using least square method to get the answer \"\"\"\n",
        "  p, t = experimental_data()\n",
        "  vector = np.column_stack([p, np.ones(len(p))])\n",
        "  coefs = np.linalg.lstsq(vector, t, rcond=-1)[0] #rcond = -1 to use the machine precision as rcond parameter\n",
        "\n",
        "  return coefs"
      ],
      "execution_count": 6,
      "outputs": []
    },
    {
      "cell_type": "code",
      "metadata": {
        "id": "EDkVTUQXB2B0"
      },
      "source": [
        "def linear_regression():\n",
        "  \"\"\" using linear regression with sklearn \"\"\"\n",
        "  p, t = experimental_data()\n",
        "\n",
        "  regression = LinearRegression().fit(p,t)\n",
        "\n",
        "  return regression.coef_, regression.intercept_"
      ],
      "execution_count": 7,
      "outputs": []
    },
    {
      "cell_type": "code",
      "metadata": {
        "id": "0pTtdFgpEBLB"
      },
      "source": [
        "def temperature(p):\n",
        "  a, b = linear_regression()\n",
        "  return a@p+b\n",
        "  "
      ],
      "execution_count": 8,
      "outputs": []
    },
    {
      "cell_type": "code",
      "metadata": {
        "colab": {
          "base_uri": "https://localhost:8080/"
        },
        "id": "NsrinezZENbX",
        "outputId": "f939e79b-4350-4ca5-fcd7-4b649c05ff93"
      },
      "source": [
        "print(f'polynomial system equation solution')\n",
        "print(polynomial_system())"
      ],
      "execution_count": 9,
      "outputs": [
        {
          "output_type": "stream",
          "text": [
            "polynomial system equation solution\n",
            "[ 0.27777778  0.44444444  0.33333333 24.44444444]\n"
          ],
          "name": "stdout"
        }
      ]
    },
    {
      "cell_type": "code",
      "metadata": {
        "colab": {
          "base_uri": "https://localhost:8080/"
        },
        "id": "EpW3GPCEEiQ3",
        "outputId": "9ce3a16c-eb16-49d9-83ee-66eff17cd015"
      },
      "source": [
        "print(f'least square solution')\n",
        "print(least_square())"
      ],
      "execution_count": 10,
      "outputs": [
        {
          "output_type": "stream",
          "text": [
            "least square solution\n",
            "[ 0.27777778  0.44444444  0.33333333 24.44444444]\n"
          ],
          "name": "stdout"
        }
      ]
    },
    {
      "cell_type": "code",
      "metadata": {
        "colab": {
          "base_uri": "https://localhost:8080/"
        },
        "id": "AGwlcBLvEpgp",
        "outputId": "28d64636-29ad-4372-e2ab-c2feb9e29ba0"
      },
      "source": [
        "print(f'linear regression with sklearn')\n",
        "print(linear_regression())"
      ],
      "execution_count": 11,
      "outputs": [
        {
          "output_type": "stream",
          "text": [
            "linear regression with sklearn\n",
            "(array([0.27777778, 0.44444444, 0.33333333]), 24.444444444444436)\n"
          ],
          "name": "stdout"
        }
      ]
    },
    {
      "cell_type": "code",
      "metadata": {
        "id": "EQGrjGPUAK4Q"
      },
      "source": [
        "processor_max_capacity = np.array([100,100,100])"
      ],
      "execution_count": 12,
      "outputs": []
    },
    {
      "cell_type": "code",
      "metadata": {
        "colab": {
          "base_uri": "https://localhost:8080/"
        },
        "id": "WDkX1N_nFHT9",
        "outputId": "894febb0-01cd-4812-892a-74eda2a5c5e9"
      },
      "source": [
        "print(f'If we put the max capacity of all three processors we got, {temperature(processor_max_capacity)} celcius degrees ')"
      ],
      "execution_count": 13,
      "outputs": [
        {
          "output_type": "stream",
          "text": [
            "If we put the max capacity of all three processors we got, 130.0 celcius degrees \n"
          ],
          "name": "stdout"
        }
      ]
    },
    {
      "cell_type": "markdown",
      "metadata": {
        "id": "5NPXMqn0FmBP"
      },
      "source": [
        "The temperature with the three processors at max capacity is less than 150, that means we can have the three processors running at max capacity at the same time."
      ]
    },
    {
      "cell_type": "code",
      "metadata": {
        "id": "8Nza7KPhFlp9"
      },
      "source": [
        ""
      ],
      "execution_count": null,
      "outputs": []
    }
  ]
}