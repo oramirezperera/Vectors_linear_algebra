{
  "nbformat": 4,
  "nbformat_minor": 0,
  "metadata": {
    "colab": {
      "name": "linear_function.ipynb",
      "provenance": [],
      "collapsed_sections": [],
      "authorship_tag": "ABX9TyN3RWJJqPOgXwimuqTSWgMT",
      "include_colab_link": true
    },
    "kernelspec": {
      "name": "python3",
      "display_name": "Python 3"
    },
    "language_info": {
      "name": "python"
    }
  },
  "cells": [
    {
      "cell_type": "markdown",
      "metadata": {
        "id": "view-in-github",
        "colab_type": "text"
      },
      "source": [
        "<a href=\"https://colab.research.google.com/github/oramirezperera/Vectors_linear_algebra/blob/main/linear_function.ipynb\" target=\"_parent\"><img src=\"https://colab.research.google.com/assets/colab-badge.svg\" alt=\"Open In Colab\"/></a>"
      ]
    },
    {
      "cell_type": "markdown",
      "metadata": {
        "id": "3eX2n8rOvwyT"
      },
      "source": [
        "## Dependencies"
      ]
    },
    {
      "cell_type": "code",
      "metadata": {
        "id": "8rlTLfK0voS_"
      },
      "source": [
        "import numpy as np\n"
      ],
      "execution_count": 1,
      "outputs": []
    },
    {
      "cell_type": "code",
      "metadata": {
        "id": "IQ5PdcEcv4K1"
      },
      "source": [
        "def f(x):\n",
        "  return np.sum(x)"
      ],
      "execution_count": 2,
      "outputs": []
    },
    {
      "cell_type": "code",
      "metadata": {
        "colab": {
          "base_uri": "https://localhost:8080/"
        },
        "id": "R2dKnX3wwESX",
        "outputId": "c5a03a12-e07a-440d-b67e-1ce751ae34eb"
      },
      "source": [
        "print(f'f(0) = ', f(np.array([0,0,0,0])))"
      ],
      "execution_count": 6,
      "outputs": [
        {
          "output_type": "stream",
          "text": [
            "f(0) =  0\n"
          ],
          "name": "stdout"
        }
      ]
    },
    {
      "cell_type": "code",
      "metadata": {
        "colab": {
          "base_uri": "https://localhost:8080/"
        },
        "id": "a1vkAuFJwJaD",
        "outputId": "cdf41a45-f0b8-40d3-dddc-3bd0af1ac52e"
      },
      "source": [
        "print(f'f([1,0,0,0]) = ', f(np.array([1,0,0,0])))"
      ],
      "execution_count": 9,
      "outputs": [
        {
          "output_type": "stream",
          "text": [
            "f([1,0,0,0]) =  1\n"
          ],
          "name": "stdout"
        }
      ]
    },
    {
      "cell_type": "code",
      "metadata": {
        "colab": {
          "base_uri": "https://localhost:8080/"
        },
        "id": "ovAGRz33wNuC",
        "outputId": "2c533ec6-4490-43fb-cf5c-f278149127a1"
      },
      "source": [
        "print(f'f([1,1,1,1]) = ', f(np.array([1,1,1,1])))"
      ],
      "execution_count": 10,
      "outputs": [
        {
          "output_type": "stream",
          "text": [
            "f([1,1,1,1]) =  4\n"
          ],
          "name": "stdout"
        }
      ]
    },
    {
      "cell_type": "markdown",
      "metadata": {
        "id": "dE3ryK9Tw2pt"
      },
      "source": [
        "$\\mathbb{R}^{3} \\to \\mathbb{R}$ difined by  $g(x) = x_0$ "
      ]
    },
    {
      "cell_type": "markdown",
      "metadata": {
        "id": "H_A5rcNRxT7n"
      },
      "source": [
        "g(0) = 0\n",
        "\n",
        "g([0,0,1]) = 0\n",
        "\n",
        "g([1,0,4]) = 1"
      ]
    },
    {
      "cell_type": "code",
      "metadata": {
        "id": "kLjmCVx9xhsg"
      },
      "source": [
        "def g(x):\n",
        "  return x[0]"
      ],
      "execution_count": 17,
      "outputs": []
    },
    {
      "cell_type": "code",
      "metadata": {
        "colab": {
          "base_uri": "https://localhost:8080/"
        },
        "id": "LnGrtmPgxmnu",
        "outputId": "18722328-6e4f-4855-a9a2-3c688fafee44"
      },
      "source": [
        "print(f'g(0) = ', g([0,0,0]))"
      ],
      "execution_count": 19,
      "outputs": [
        {
          "output_type": "stream",
          "text": [
            "g(0) =  0\n"
          ],
          "name": "stdout"
        }
      ]
    },
    {
      "cell_type": "code",
      "metadata": {
        "colab": {
          "base_uri": "https://localhost:8080/"
        },
        "id": "amepzg0Qx_uC",
        "outputId": "6105a2a2-987d-42ca-f6de-d0a5792b6a64"
      },
      "source": [
        "print(f'g([0,0,1] =', g([0,0,1]))"
      ],
      "execution_count": 23,
      "outputs": [
        {
          "output_type": "stream",
          "text": [
            "g([0,0,1] = 0\n"
          ],
          "name": "stdout"
        }
      ]
    },
    {
      "cell_type": "code",
      "metadata": {
        "colab": {
          "base_uri": "https://localhost:8080/"
        },
        "id": "bIIV7_ZGyGFB",
        "outputId": "d2723fa6-d754-4bc6-fcf4-b57ccbb1ffe9"
      },
      "source": [
        "print(f'g([1,0,4]) =', g([1,0,4]))"
      ],
      "execution_count": 22,
      "outputs": [
        {
          "output_type": "stream",
          "text": [
            "g([1,0,4]) = 1\n"
          ],
          "name": "stdout"
        }
      ]
    },
    {
      "cell_type": "markdown",
      "metadata": {
        "id": "39Mq7M0f4Gm1"
      },
      "source": [
        "some linear functions\n",
        "\n",
        "- homogeneity\n",
        "- additivity\n"
      ]
    },
    {
      "cell_type": "code",
      "metadata": {
        "id": "2OWJrFSpyMXB"
      },
      "source": [
        "a = np.array([1,1,1,1])\n",
        "b = np.array([1,0,1,0])\n",
        "x, y = 1, -2"
      ],
      "execution_count": 25,
      "outputs": []
    },
    {
      "cell_type": "markdown",
      "metadata": {
        "id": "0nIU8pGu44VT"
      },
      "source": [
        "if f is linear has superposition\n",
        "$g(\\alpha\\mathbf{x}+\\beta\\mathbf{y}) = \\alpha g(\\mathbf{x})+\\beta g(\\mathbf{y})$"
      ]
    },
    {
      "cell_type": "code",
      "metadata": {
        "colab": {
          "base_uri": "https://localhost:8080/"
        },
        "id": "DthBnAs15WNc",
        "outputId": "22ab283f-a22b-4380-81e8-1e49fb2a68ea"
      },
      "source": [
        "print(f'f(x*a + y*b) = ', f(x*a + y*b))"
      ],
      "execution_count": 26,
      "outputs": [
        {
          "output_type": "stream",
          "text": [
            "f(x*a + y*b) =  0\n"
          ],
          "name": "stdout"
        }
      ]
    },
    {
      "cell_type": "code",
      "metadata": {
        "colab": {
          "base_uri": "https://localhost:8080/"
        },
        "id": "dNv_55ld5lTv",
        "outputId": "fbe8b729-1106-41fc-f392-9d9d1eefcd6d"
      },
      "source": [
        "print(f'xf(a) + yf(b) = ', x*f(a) + y*f(b))"
      ],
      "execution_count": 31,
      "outputs": [
        {
          "output_type": "stream",
          "text": [
            "xf(a) + yf(b) =  0\n"
          ],
          "name": "stdout"
        }
      ]
    },
    {
      "cell_type": "markdown",
      "metadata": {
        "id": "vjUJHK946QdD"
      },
      "source": [
        "checking if g(x) is linear"
      ]
    },
    {
      "cell_type": "code",
      "metadata": {
        "colab": {
          "base_uri": "https://localhost:8080/"
        },
        "id": "nxNAPtYz6KrN",
        "outputId": "44d8444f-4430-48eb-f940-81b3baaada54"
      },
      "source": [
        "print(f'g(x*a + y*b) = ', g(x*a + y*b))"
      ],
      "execution_count": 32,
      "outputs": [
        {
          "output_type": "stream",
          "text": [
            "g(x*a + y*b) =  -1\n"
          ],
          "name": "stdout"
        }
      ]
    },
    {
      "cell_type": "code",
      "metadata": {
        "colab": {
          "base_uri": "https://localhost:8080/"
        },
        "id": "zZjEw6v46wB2",
        "outputId": "d8e054b9-c9ac-4c3a-9676-fa4a4f81ceb9"
      },
      "source": [
        "print(f'xg(a) + yg(b) = ', x*g(a) + y*g(b))"
      ],
      "execution_count": 33,
      "outputs": [
        {
          "output_type": "stream",
          "text": [
            "xg(a) + yg(b) =  -1\n"
          ],
          "name": "stdout"
        }
      ]
    },
    {
      "cell_type": "markdown",
      "metadata": {
        "id": "mq0USqXD6-dV"
      },
      "source": [
        "It's linear"
      ]
    }
  ]
}