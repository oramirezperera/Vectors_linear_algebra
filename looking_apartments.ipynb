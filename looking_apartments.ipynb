{
  "nbformat": 4,
  "nbformat_minor": 0,
  "metadata": {
    "colab": {
      "name": "looking_apartments.ipynb",
      "provenance": [],
      "collapsed_sections": [],
      "authorship_tag": "ABX9TyO8pvaO/0NuQtdmgo72B248",
      "include_colab_link": true
    },
    "kernelspec": {
      "name": "python3",
      "display_name": "Python 3"
    },
    "language_info": {
      "name": "python"
    }
  },
  "cells": [
    {
      "cell_type": "markdown",
      "metadata": {
        "id": "view-in-github",
        "colab_type": "text"
      },
      "source": [
        "<a href=\"https://colab.research.google.com/github/oramirezperera/Vectors_linear_algebra/blob/main/looking_apartments.ipynb\" target=\"_parent\"><img src=\"https://colab.research.google.com/assets/colab-badge.svg\" alt=\"Open In Colab\"/></a>"
      ]
    },
    {
      "cell_type": "markdown",
      "metadata": {
        "id": "su-lYIXwU3hZ"
      },
      "source": [
        "Imaging we are looking for a new apartment, but we want to know which of the apartments we have selected is the better for us. For this we are going to create a vector with our ideal apartment.\n",
        "\n",
        "We want our apartment to be greater than 80 mts but less than 110, we want two rooms, two bathrooms and one parking spot. \n",
        "\n",
        "If we create out Ideal vector with the meters we will add a lot of noise so we create categories for each apartment sizes.\n",
        "\n",
        "1. If the area of the apartmen is less than 60 mts.\n",
        "2. If the area is greater or equal to 60 but less than 80 mts.\n",
        "3. If the area is greater or equal to 80 but less than 110 mts.\n",
        "4. If the area is greater or equal to 110 but less than 130 mts.\n",
        "5. If the area is greater or equal to 130\n",
        "\n",
        "Our ideal vector will be an apartment with an area between 80 to 110, 2 rooms, 2 bathrooms and 1 parking spot.\n",
        "\n",
        "$$ \\mathbf{I} = \\begin{bmatrix} 3\\\\ 2\\\\ 2\\\\1 \\end{bmatrix}$$\n",
        "\n",
        "And we have these three apartments:\n",
        "\n",
        "$$ \\mathbf{A_{1}} = \\begin{bmatrix}4 \\\\3 \\\\ 3\\\\3 \\end{bmatrix}, \\qquad \\mathbf{A_{2}} = \\begin{bmatrix}3 \\\\3 \\\\ 1\\\\0 \\end{bmatrix}, \\qquad \\mathbf{A_{3}} = \\begin{bmatrix}5 \\\\4 \\\\ 3\\\\0 \\end{bmatrix} $$\n"
      ]
    },
    {
      "cell_type": "markdown",
      "metadata": {
        "id": "9niBI0-6W4bW"
      },
      "source": [
        "## Dependencies"
      ]
    },
    {
      "cell_type": "code",
      "metadata": {
        "id": "FfdSvWu8U0-J"
      },
      "source": [
        "import numpy as np"
      ],
      "execution_count": 1,
      "outputs": []
    },
    {
      "cell_type": "markdown",
      "metadata": {
        "id": "cBU5g4-bW9KM"
      },
      "source": [
        "We create our vectors"
      ]
    },
    {
      "cell_type": "code",
      "metadata": {
        "id": "UjE-NtfPXAUn"
      },
      "source": [
        "I = np.array([3, 2, 2, 1])\n",
        "A_1 = np.array([4, 3, 3, 3])\n",
        "A_2 = np.array([3, 3, 1, 0])\n",
        "A_3 = np.array([5, 4, 3, 0])"
      ],
      "execution_count": 7,
      "outputs": []
    },
    {
      "cell_type": "markdown",
      "metadata": {
        "id": "QTCa-JTnXT4T"
      },
      "source": [
        "Now we calculte the distance between each vector and our Ideal vector"
      ]
    },
    {
      "cell_type": "code",
      "metadata": {
        "colab": {
          "base_uri": "https://localhost:8080/"
        },
        "id": "40c1f-cvXaCD",
        "outputId": "6ca392a2-14ca-4f58-fa67-d66fa2bb5cb2"
      },
      "source": [
        "print(f'||I-A_1|| =',np.linalg.norm(I-A_1))\n",
        "print(f'||I-A_2|| =',np.linalg.norm(I-A_2))\n",
        "print(f'||I-A_3|| =',np.linalg.norm(I-A_3))"
      ],
      "execution_count": 8,
      "outputs": [
        {
          "output_type": "stream",
          "text": [
            "||I-A_1|| = 2.6457513110645907\n",
            "||I-A_2|| = 1.7320508075688772\n",
            "||I-A_3|| = 3.1622776601683795\n"
          ],
          "name": "stdout"
        }
      ]
    },
    {
      "cell_type": "markdown",
      "metadata": {
        "id": "ezHR_VzJX2pG"
      },
      "source": [
        "As we can see, the ideal apartment will be A2 because it's the nearest to our ideal apartment. We can change this exercise giving weights to each of the paramaters we are considering, because for example you thinks is most important to have a parking spot than another bathroom, etc."
      ]
    },
    {
      "cell_type": "code",
      "metadata": {
        "id": "FnUPs4FGXjtM"
      },
      "source": [
        ""
      ],
      "execution_count": null,
      "outputs": []
    }
  ]
}