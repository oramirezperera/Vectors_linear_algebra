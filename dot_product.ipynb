{
  "nbformat": 4,
  "nbformat_minor": 0,
  "metadata": {
    "colab": {
      "name": "dot_product.ipynb",
      "provenance": [],
      "authorship_tag": "ABX9TyOq1jImFOte2QmvsGCk2iUd",
      "include_colab_link": true
    },
    "kernelspec": {
      "name": "python3",
      "display_name": "Python 3"
    },
    "language_info": {
      "name": "python"
    }
  },
  "cells": [
    {
      "cell_type": "markdown",
      "metadata": {
        "id": "view-in-github",
        "colab_type": "text"
      },
      "source": [
        "<a href=\"https://colab.research.google.com/github/oramirezperera/Vectors_linear_algebra/blob/main/dot_product.ipynb\" target=\"_parent\"><img src=\"https://colab.research.google.com/assets/colab-badge.svg\" alt=\"Open In Colab\"/></a>"
      ]
    },
    {
      "cell_type": "markdown",
      "metadata": {
        "id": "bwgR2XImQJOW"
      },
      "source": [
        "## Dependencies"
      ]
    },
    {
      "cell_type": "code",
      "metadata": {
        "id": "BJJWPld6QEcl"
      },
      "source": [
        "import numpy as np"
      ],
      "execution_count": 1,
      "outputs": []
    },
    {
      "cell_type": "markdown",
      "metadata": {
        "id": "2ucjY0fHQPXy"
      },
      "source": [
        "with $\\vec{a}$ and $\\vec{b}$ in $\\mathbb{R}^{4}$ We say that they are orthogonal or perpendicular if $\\vec{a}$ . $\\vec{b}$ = 0.\n",
        "Then we have $\\vec{a} = \\hat{e}_{0}$ and $\\vec{b} = \\hat{e}_{2}$. With this we are going to calculate the dot product in Python"
      ]
    },
    {
      "cell_type": "code",
      "metadata": {
        "id": "LxIOf_WpQMtp"
      },
      "source": [
        "a = np.array([1, 0, 0, 0]) # vector e_0\n",
        "b = np.array([0, 0, 1, 0]) # vector e_2"
      ],
      "execution_count": 3,
      "outputs": []
    },
    {
      "cell_type": "markdown",
      "metadata": {
        "id": "p4vnrT5ISHz8"
      },
      "source": [
        "Numpy has the function numpy.dot to calculate the dot product"
      ]
    },
    {
      "cell_type": "code",
      "metadata": {
        "colab": {
          "base_uri": "https://localhost:8080/"
        },
        "id": "0WHYD8NoSNVY",
        "outputId": "4deedc13-9a94-4dfb-b162-fcb6fbe3b0e3"
      },
      "source": [
        "print('<a.b> = ', np.dot(a, b))"
      ],
      "execution_count": 4,
      "outputs": [
        {
          "output_type": "stream",
          "text": [
            "<a.b> =  0\n"
          ],
          "name": "stdout"
        }
      ]
    },
    {
      "cell_type": "code",
      "metadata": {
        "id": "yjhvNC8FSVwR"
      },
      "source": [
        ""
      ],
      "execution_count": null,
      "outputs": []
    },
    {
      "cell_type": "markdown",
      "metadata": {
        "id": "uEmx4od-SXxL"
      },
      "source": [
        "We can use the @ to"
      ]
    },
    {
      "cell_type": "code",
      "metadata": {
        "colab": {
          "base_uri": "https://localhost:8080/"
        },
        "id": "GwaXBkeaSZmI",
        "outputId": "cb28e079-fb79-4532-9da4-70500c5e0331"
      },
      "source": [
        "print('<a,b> = ', a.T@b)"
      ],
      "execution_count": 5,
      "outputs": [
        {
          "output_type": "stream",
          "text": [
            "<a,b> =  0\n"
          ],
          "name": "stdout"
        }
      ]
    },
    {
      "cell_type": "markdown",
      "metadata": {
        "id": "7pyC_5rCUHju"
      },
      "source": [
        "## Evaluating polynomials\n",
        "A polynomial with a degree n-1 could be expressed as  $p(x) = c_{0} + c_{1}x + c_{2}x^{2} + \\cdots + c_{n-1}x^{n-1}$ if we consider the $n$-vectors $\\vec{c},\\vec{x}$:\n",
        "\n",
        "$$\n",
        "\\vec{c} = \\begin{bmatrix}c_{0}\\\\ c_{1}\\\\ \\vdots \\\\ c_{n-1}\\end{bmatrix},\\qquad \\vec{x}(x) = \\begin{bmatrix}x^{0}\\\\ x^{1}\\\\ \\vdots \\\\ x^{n-1}\\end{bmatrix}\n",
        "$$\n",
        "\n",
        "then we can say $p(x) = \\vec{c}^{T}\\vec{x}(x)$. For example $p(x)=1+2x$\n",
        "\n",
        "$$\n",
        "\\vec{c} = \\begin{bmatrix}1\\\\ 2 \\end{bmatrix}, \\qquad \\vec{x}(x) = \\begin{bmatrix}1\\\\ x \\end{bmatrix}\n",
        "$$\n",
        "\n",
        "then:\n",
        "$$\n",
        "p(x) = \\vec{c}^{T}\\vec{x}(x) = [1 \\; 2] \\begin{bmatrix}1\\\\ x \\end{bmatrix} = 1\\cdot 1 + 2\\cdot x = 1 + 2x\n",
        "$$\n"
      ]
    },
    {
      "cell_type": "markdown",
      "metadata": {
        "id": "x5Q1Ov7KVWbS"
      },
      "source": [
        "### In Python we can write this polynomial as:"
      ]
    },
    {
      "cell_type": "code",
      "metadata": {
        "id": "4jGuTbV7VVac"
      },
      "source": [
        "def p(x):\n",
        "  return np.array([1,2])@np.array([1,x])"
      ],
      "execution_count": 7,
      "outputs": []
    },
    {
      "cell_type": "code",
      "metadata": {
        "colab": {
          "base_uri": "https://localhost:8080/"
        },
        "id": "QJtaFNivVjl1",
        "outputId": "9798c330-9e0e-45eb-ab1e-f6219089a847"
      },
      "source": [
        "print('p(0) = ', p(0))\n",
        "print('p(1) = ', p(1))\n",
        "print('p(2) = ', p(2))"
      ],
      "execution_count": 10,
      "outputs": [
        {
          "output_type": "stream",
          "text": [
            "p(0) =  1\n",
            "p(1) =  3\n",
            "p(2) =  5\n"
          ],
          "name": "stdout"
        }
      ]
    }
  ]
}