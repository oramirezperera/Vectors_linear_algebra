{
  "nbformat": 4,
  "nbformat_minor": 0,
  "metadata": {
    "colab": {
      "name": "distance_between_vectors.ipynb",
      "provenance": [],
      "collapsed_sections": [],
      "authorship_tag": "ABX9TyOrt/uSpwJSdkmXbHfbgzFw",
      "include_colab_link": true
    },
    "kernelspec": {
      "name": "python3",
      "display_name": "Python 3"
    },
    "language_info": {
      "name": "python"
    }
  },
  "cells": [
    {
      "cell_type": "markdown",
      "metadata": {
        "id": "view-in-github",
        "colab_type": "text"
      },
      "source": [
        "<a href=\"https://colab.research.google.com/github/oramirezperera/Vectors_linear_algebra/blob/main/distance_between_vectors.ipynb\" target=\"_parent\"><img src=\"https://colab.research.google.com/assets/colab-badge.svg\" alt=\"Open In Colab\"/></a>"
      ]
    },
    {
      "cell_type": "markdown",
      "metadata": {
        "id": "5Diw6Wu1L5BZ"
      },
      "source": [
        "## Dependencies"
      ]
    },
    {
      "cell_type": "code",
      "metadata": {
        "id": "a_ALIq6jLvoi"
      },
      "source": [
        "import numpy as np"
      ],
      "execution_count": 1,
      "outputs": []
    },
    {
      "cell_type": "code",
      "metadata": {
        "id": "RH5G0k7FL8xc"
      },
      "source": [
        "a = np.array([1,1])\n",
        "b = np.array([-2,3])"
      ],
      "execution_count": 2,
      "outputs": []
    },
    {
      "cell_type": "code",
      "metadata": {
        "colab": {
          "base_uri": "https://localhost:8080/"
        },
        "id": "qa79FDmUMDZJ",
        "outputId": "f015821e-ba8e-46da-9829-a32b003ebee6"
      },
      "source": [
        "c = a - b\n",
        "c"
      ],
      "execution_count": 3,
      "outputs": [
        {
          "output_type": "execute_result",
          "data": {
            "text/plain": [
              "array([ 3, -2])"
            ]
          },
          "metadata": {
            "tags": []
          },
          "execution_count": 3
        }
      ]
    },
    {
      "cell_type": "code",
      "metadata": {
        "colab": {
          "base_uri": "https://localhost:8080/"
        },
        "id": "OzW2anVUMGmb",
        "outputId": "6f2706ea-a62c-41f6-e9c5-1d7975675b3e"
      },
      "source": [
        "np.linalg.norm(a-b)"
      ],
      "execution_count": 4,
      "outputs": [
        {
          "output_type": "execute_result",
          "data": {
            "text/plain": [
              "3.605551275463989"
            ]
          },
          "metadata": {
            "tags": []
          },
          "execution_count": 4
        }
      ]
    },
    {
      "cell_type": "code",
      "metadata": {
        "colab": {
          "base_uri": "https://localhost:8080/"
        },
        "id": "nahefFxOMM4g",
        "outputId": "2081e2eb-aaf3-4052-f0f9-c54f4c2d473c"
      },
      "source": [
        "np.linalg.norm(c)"
      ],
      "execution_count": 5,
      "outputs": [
        {
          "output_type": "execute_result",
          "data": {
            "text/plain": [
              "3.605551275463989"
            ]
          },
          "metadata": {
            "tags": []
          },
          "execution_count": 5
        }
      ]
    },
    {
      "cell_type": "markdown",
      "metadata": {
        "id": "3VuYS8T6Pf-a"
      },
      "source": [
        "$$||\\mathbf{a}-\\mathbf{c}|| = ||\\mathbf{a}-\\mathbf{b}+\\mathbf{b}-\\mathbf{c}|| \\le ||\\mathbf{a}-\\mathbf{b}|| + ||\\mathbf{b}-\\mathbf{c}||$$"
      ]
    },
    {
      "cell_type": "markdown",
      "metadata": {
        "id": "X8cxchcyPkC3"
      },
      "source": [
        "we have these $2$-vectors\n",
        "$$\n",
        "\\mathbf{a} = \\begin{bmatrix} 1\\\\ 1 \\end{bmatrix}, \\qquad \\mathbf{b} = \\begin{bmatrix} 2\\\\ 3 \\end{bmatrix}, \\qquad \\mathbf{c} = \\begin{bmatrix} 4\\\\ 2 \\end{bmatrix}\n",
        "$$\n",
        "\n"
      ]
    },
    {
      "cell_type": "code",
      "metadata": {
        "id": "ydB8qc9zPXmy"
      },
      "source": [
        "a_0 = np.array([1,1])\n",
        "b_0 = np.array([2,3])\n",
        "c_0 = np.array([4,2])"
      ],
      "execution_count": 6,
      "outputs": []
    },
    {
      "cell_type": "markdown",
      "metadata": {
        "id": "DHVxVGJHP5so"
      },
      "source": [
        "We will call $||\\mathbf{a}-\\mathbf{c}||$ first_n"
      ]
    },
    {
      "cell_type": "code",
      "metadata": {
        "colab": {
          "base_uri": "https://localhost:8080/"
        },
        "id": "puGNnlAhPzaD",
        "outputId": "7001df39-a319-471c-fe33-d241324d844b"
      },
      "source": [
        "first_n = np.linalg.norm(a-c)\n",
        "first_n"
      ],
      "execution_count": 12,
      "outputs": [
        {
          "output_type": "execute_result",
          "data": {
            "text/plain": [
              "3.605551275463989"
            ]
          },
          "metadata": {
            "tags": []
          },
          "execution_count": 12
        }
      ]
    },
    {
      "cell_type": "code",
      "metadata": {
        "colab": {
          "base_uri": "https://localhost:8080/"
        },
        "id": "r1PpqEGaQM7v",
        "outputId": "a1efcb73-661f-4c38-9d6f-9a16eeacc406"
      },
      "source": [
        "second_n = np.linalg.norm(a-b)\n",
        "third_n = np.linalg.norm(b-c)\n",
        "result = second_n + third_n\n",
        "print(f'The results of second_n is {second_n}, third_n is {third_n} and final result is {result}')"
      ],
      "execution_count": 10,
      "outputs": [
        {
          "output_type": "stream",
          "text": [
            "The results of second_n is 3.605551275463989, third_n is 7.0710678118654755 and final result is 10.676619087329465\n"
          ],
          "name": "stdout"
        }
      ]
    },
    {
      "cell_type": "code",
      "metadata": {
        "colab": {
          "base_uri": "https://localhost:8080/"
        },
        "id": "sA5FuZ63QugG",
        "outputId": "b1455cd7-cdb5-4c74-f083-afca68543e39"
      },
      "source": [
        "print(f'Is first_n less or equal to result?', first_n <= result)"
      ],
      "execution_count": 11,
      "outputs": [
        {
          "output_type": "stream",
          "text": [
            "Is first_n less or equal to result? True\n"
          ],
          "name": "stdout"
        }
      ]
    }
  ]
}