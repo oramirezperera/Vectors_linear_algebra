{
  "nbformat": 4,
  "nbformat_minor": 0,
  "metadata": {
    "colab": {
      "name": "rgb_colors.ipynb",
      "provenance": [],
      "authorship_tag": "ABX9TyPUrPcBQSUp2+cKBeo9/LEo",
      "include_colab_link": true
    },
    "kernelspec": {
      "name": "python3",
      "display_name": "Python 3"
    },
    "language_info": {
      "name": "python"
    }
  },
  "cells": [
    {
      "cell_type": "markdown",
      "metadata": {
        "id": "view-in-github",
        "colab_type": "text"
      },
      "source": [
        "<a href=\"https://colab.research.google.com/github/oramirezperera/Vectors_linear_algebra/blob/main/rgb_colors.ipynb\" target=\"_parent\"><img src=\"https://colab.research.google.com/assets/colab-badge.svg\" alt=\"Open In Colab\"/></a>"
      ]
    },
    {
      "cell_type": "markdown",
      "metadata": {
        "id": "3ciBOd4ct2gS"
      },
      "source": [
        "[more information about RGB colors](https://en.wikipedia.org/wiki/RGB_color_model)\n",
        "\n",
        "In this model colors are presented as vectors and combination of concentrations of the colores Red, Green and Blue.\n",
        "\n",
        "In python we will put thes vectors as lists."
      ]
    },
    {
      "cell_type": "code",
      "metadata": {
        "id": "4MsoRdp9tt_v"
      },
      "source": [
        "red = [255, 0, 0]\n",
        "green = [0, 255, 0]\n",
        "blue = [0, 0, 255]\n",
        "black = [0, 0, 0]\n"
      ],
      "execution_count": 1,
      "outputs": []
    },
    {
      "cell_type": "code",
      "metadata": {
        "colab": {
          "base_uri": "https://localhost:8080/"
        },
        "id": "ovyL874ivhEf",
        "outputId": "5745cd6a-0651-4e56-f7ac-30315f25e46e"
      },
      "source": [
        "print('Red in RGB is represented by the vector:', red)"
      ],
      "execution_count": 2,
      "outputs": [
        {
          "output_type": "stream",
          "text": [
            "Red in RGB is represented by the vector: [255, 0, 0]\n"
          ],
          "name": "stdout"
        }
      ]
    },
    {
      "cell_type": "code",
      "metadata": {
        "colab": {
          "base_uri": "https://localhost:8080/"
        },
        "id": "AryGATsmvtaM",
        "outputId": "1c31c7b1-15d6-476c-bf8e-b7ac36a10133"
      },
      "source": [
        "print('Green in RGB is represented by the vector', green)"
      ],
      "execution_count": 4,
      "outputs": [
        {
          "output_type": "stream",
          "text": [
            "Green in RGB is represented by the vector [0, 255, 0]\n"
          ],
          "name": "stdout"
        }
      ]
    },
    {
      "cell_type": "code",
      "metadata": {
        "colab": {
          "base_uri": "https://localhost:8080/"
        },
        "id": "njUKcue3v3HE",
        "outputId": "6a1a5097-10d1-4fbb-f2c8-fd446a7b7531"
      },
      "source": [
        "print('Blue in RGB is represented by the vector', blue)"
      ],
      "execution_count": 5,
      "outputs": [
        {
          "output_type": "stream",
          "text": [
            "Blue in RGB is represented by the vector [0, 0, 255]\n"
          ],
          "name": "stdout"
        }
      ]
    },
    {
      "cell_type": "markdown",
      "metadata": {
        "id": "HSvxgXiqwB2k"
      },
      "source": [
        "We can get the length of a vector using the len function"
      ]
    },
    {
      "cell_type": "code",
      "metadata": {
        "colab": {
          "base_uri": "https://localhost:8080/"
        },
        "id": "Dm9ZKEnsv-bi",
        "outputId": "7713025d-d905-4cf4-ee0d-68a4a919db83"
      },
      "source": [
        "print('The length of vector red is:', len(red))"
      ],
      "execution_count": 7,
      "outputs": [
        {
          "output_type": "stream",
          "text": [
            "The length of vector red is: 3\n"
          ],
          "name": "stdout"
        }
      ]
    },
    {
      "cell_type": "markdown",
      "metadata": {
        "id": "BM3ybnz8wTck"
      },
      "source": [
        "If you try to add this two vectors with +, it's not possible because they are lists and not vectors yet."
      ]
    },
    {
      "cell_type": "code",
      "metadata": {
        "colab": {
          "base_uri": "https://localhost:8080/"
        },
        "id": "_Hvk3zauwQDd",
        "outputId": "b3c1dab5-d773-45ed-8174-1ba2989c146d"
      },
      "source": [
        "blue_and_black = blue + black\n",
        "print(blue_and_black)"
      ],
      "execution_count": 10,
      "outputs": [
        {
          "output_type": "stream",
          "text": [
            "[0, 0, 255, 0, 0, 0]\n"
          ],
          "name": "stdout"
        }
      ]
    },
    {
      "cell_type": "markdown",
      "metadata": {
        "id": "rSjc9C1XwnkQ"
      },
      "source": [
        "As you can see, the list is concatenated. But with this concatenation, we can get the subvectors and say that red_and_green is a vector that contains two vectors."
      ]
    },
    {
      "cell_type": "code",
      "metadata": {
        "colab": {
          "base_uri": "https://localhost:8080/"
        },
        "id": "_pIRhgcsws3V",
        "outputId": "30d631f6-003c-49bf-c27f-19248a8bae35"
      },
      "source": [
        "print('The subvector blue in the vector blue_and_black is: ', blue_and_black[0:3])"
      ],
      "execution_count": 11,
      "outputs": [
        {
          "output_type": "stream",
          "text": [
            "The subvector blue in the vector blue_and_black is:  [0, 0, 255]\n"
          ],
          "name": "stdout"
        }
      ]
    },
    {
      "cell_type": "code",
      "metadata": {
        "colab": {
          "base_uri": "https://localhost:8080/"
        },
        "id": "7z6OtCorxQlp",
        "outputId": "77ce0f18-ff69-429a-cd4e-92963796412b"
      },
      "source": [
        "print('The subvector black in the vector blue_and_black is: ', blue_and_black[3:6])"
      ],
      "execution_count": 13,
      "outputs": [
        {
          "output_type": "stream",
          "text": [
            "The subvector black in the vector blue_and_black is:  [0, 0, 0]\n"
          ],
          "name": "stdout"
        }
      ]
    }
  ]
}